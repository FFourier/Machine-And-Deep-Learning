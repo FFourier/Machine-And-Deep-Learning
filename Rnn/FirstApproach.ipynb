{
 "cells": [
  {
   "cell_type": "markdown",
   "metadata": {},
   "source": [
    "# **PyTorch Lecture 12: RNN1 - Basics**\n",
    "---"
   ]
  },
  {
   "cell_type": "code",
   "execution_count": 266,
   "metadata": {},
   "outputs": [],
   "source": [
    "import torch\n",
    "import torch.nn as nn\n",
    "import torch.optim  as optim\n",
    "\n",
    "import statistics as st"
   ]
  },
  {
   "cell_type": "code",
   "execution_count": 216,
   "metadata": {},
   "outputs": [
    {
     "name": "stdout",
     "output_type": "stream",
     "text": [
      "Weights:\n",
      "torch.Size([2, 4])\n",
      "\n",
      "Bias:\n",
      "torch.Size([2])\n"
     ]
    }
   ],
   "source": [
    "cell = nn.RNN(input_size = 4, hidden_size = 2, num_layers = 1, nonlinearity = 'tanh', batch_first = True, bias = True)\n",
    "print(f'Weights:\\n{cell.weight_ih_l0.shape}\\n\\nBias:\\n{cell.bias_ih_l0.shape}')"
   ]
  },
  {
   "cell_type": "code",
   "execution_count": 217,
   "metadata": {},
   "outputs": [
    {
     "name": "stdout",
     "output_type": "stream",
     "text": [
      "Input:  \ttorch.Size([1, 1, 4]) \n",
      "tensor([[[1., 0., 0., 0.]]])\n",
      " \n",
      "Hidden: \ttorch.Size([1, 1, 2]) \n",
      "tensor([[[-0.4157, -0.4083]]])\n"
     ]
    }
   ],
   "source": [
    "h_h = torch.Tensor([[[1,0,0,0]]]) #The first dimmensions depends of the batch size\n",
    "hid = torch.randn(1,1,2) #(num_layers * num_directions, batch, hidden_size)\n",
    "print(f'Input:  \\t{h_h.shape} \\n{h_h}\\n \\nHidden: \\t{hid.shape} \\n{hid}')"
   ]
  },
  {
   "cell_type": "code",
   "execution_count": 218,
   "metadata": {},
   "outputs": [
    {
     "name": "stdout",
     "output_type": "stream",
     "text": [
      "Output:  \ttorch.Size([1, 1, 2]) \n",
      "tensor([[[-0.5569,  0.3230]]])\n",
      " \n",
      "Hidden: \ttorch.Size([1, 1, 2]) \n",
      "tensor([[[-0.5569,  0.3230]]])\n"
     ]
    }
   ],
   "source": [
    "out, hidden = cell(h_h, hid)\n",
    "print(f'Output:  \\t{out.shape} \\n{out.data}\\n \\nHidden: \\t{hidden.shape} \\n{hidden.data}')"
   ]
  },
  {
   "cell_type": "markdown",
   "metadata": {},
   "source": [
    "> Unfolding to n sequences\n",
    "---"
   ]
  },
  {
   "cell_type": "code",
   "execution_count": 219,
   "metadata": {},
   "outputs": [
    {
     "name": "stdout",
     "output_type": "stream",
     "text": [
      "Input shape: torch.Size([1, 5, 4])\n"
     ]
    }
   ],
   "source": [
    "h = [1,0,0,0]\n",
    "e = [0,1,0,0]\n",
    "l = [0,0,1,0]\n",
    "o = [0,0,0,1]\n",
    "inputs = torch.Tensor([[h,e,l,l,o]])\n",
    "print(f'Input shape: {inputs.shape}')"
   ]
  },
  {
   "cell_type": "code",
   "execution_count": 220,
   "metadata": {},
   "outputs": [
    {
     "name": "stdout",
     "output_type": "stream",
     "text": [
      "Output:  \ttorch.Size([1, 5, 2]) \n",
      "\n",
      "tensor([[[-0.5569,  0.3230],\n",
      "         [-0.5667, -0.8509],\n",
      "         [-0.8251, -0.6449],\n",
      "         [-0.8742, -0.7349],\n",
      "         [-0.7520,  0.3751]]])\n",
      " \n",
      "\n",
      "Hidden: \ttorch.Size([1, 1, 2]) \n",
      "\n",
      "tensor([[[-0.7520,  0.3751]]])\n"
     ]
    }
   ],
   "source": [
    "out, hidden = cell(inputs, hid)\n",
    "print(f'Output:  \\t{out.shape} \\n\\n{out.data}\\n \\n\\nHidden: \\t{hidden.shape} \\n\\n{hidden.data}')"
   ]
  },
  {
   "cell_type": "markdown",
   "metadata": {},
   "source": [
    "> Batching input\n",
    "---"
   ]
  },
  {
   "cell_type": "code",
   "execution_count": 221,
   "metadata": {},
   "outputs": [
    {
     "name": "stdout",
     "output_type": "stream",
     "text": [
      "Input shape: [3, 5, 4]\n",
      "\t\t\t 3 -> Batch size\n",
      "\t\t\t 5 -> Number of letters\n",
      "\t\t\t 4 -> One hot vector lenght\n"
     ]
    }
   ],
   "source": [
    "inputs_batch = torch.Tensor([[h,e,l,l,o],[e,o,l,l,l],[h,o,l,l,o]])\n",
    "print(f'Input shape: {list(inputs_batch.shape)}')\n",
    "print(f'\\t\\t\\t 3 -> Batch size\\n\\t\\t\\t 5 -> Number of letters\\n\\t\\t\\t 4 -> One hot vector lenght')"
   ]
  },
  {
   "cell_type": "code",
   "execution_count": 222,
   "metadata": {},
   "outputs": [
    {
     "name": "stdout",
     "output_type": "stream",
     "text": [
      "Hidden shape: [1, 3, 2]\n"
     ]
    }
   ],
   "source": [
    "#Now with the batch size of 3, the hidden shape must be changed too\n",
    "hid_batch = torch.randn(1,3,2)\n",
    "                 #(num_layer * num_directions, batch, hidden_size) \n",
    "print(f'Hidden shape: {list(hid_batch.shape)}')"
   ]
  },
  {
   "cell_type": "code",
   "execution_count": 223,
   "metadata": {},
   "outputs": [
    {
     "name": "stdout",
     "output_type": "stream",
     "text": [
      "Output:  \ttorch.Size([3, 5, 2]) \n",
      "\n",
      "tensor([[[-0.6505,  0.4281],\n",
      "         [-0.6090, -0.8701],\n",
      "         [-0.8340, -0.6497],\n",
      "         [-0.8756, -0.7356],\n",
      "         [-0.7524,  0.3749]],\n",
      "\n",
      "        [[-0.6243, -0.8603],\n",
      "         [-0.6677,  0.4881],\n",
      "         [-0.8496, -0.8641],\n",
      "         [-0.8775, -0.6991],\n",
      "         [-0.8822, -0.7343]],\n",
      "\n",
      "        [[-0.6412, -0.2346],\n",
      "         [-0.6774,  0.2831],\n",
      "         [-0.8509, -0.8442],\n",
      "         [-0.8778, -0.7031],\n",
      "         [-0.7532,  0.3636]]])\n",
      " \n",
      "\n",
      "Hidden: \ttorch.Size([1, 3, 2]) \n",
      "\n",
      "tensor([[[-0.7524,  0.3749],\n",
      "         [-0.8822, -0.7343],\n",
      "         [-0.7532,  0.3636]]])\n"
     ]
    }
   ],
   "source": [
    "out_batch, hidden_batch = cell(inputs_batch, hid_batch)\n",
    "print(f'Output:  \\t{out_batch.shape} \\n\\n{out_batch.data}\\n \\n\\nHidden: \\t{hidden_batch.shape} \\n\\n{hidden_batch.data}')"
   ]
  },
  {
   "cell_type": "markdown",
   "metadata": {},
   "source": [
    "### Training the first RNN\n",
    "---"
   ]
  },
  {
   "cell_type": "markdown",
   "metadata": {},
   "source": [
    "> Data preparation"
   ]
  },
  {
   "cell_type": "code",
   "execution_count": 280,
   "metadata": {},
   "outputs": [
    {
     "name": "stdout",
     "output_type": "stream",
     "text": [
      "Inputs shape: [1, 6, 5]\t\tHidden shape: [1, 1, 5]\t\tLabels shape: [1, 6, 5]\n"
     ]
    }
   ],
   "source": [
    "#Index for unique letters\n",
    "idx2char = ['h','i','e','l','o']\n",
    "        #    0   1   2   3   4\n",
    "\n",
    "one_hot_lo = [[1,0,0,0,0],  # -> 0\n",
    "              [0,1,0,0,0],  # -> 1\n",
    "              [0,0,1,0,0],  # -> 2\n",
    "              [0,0,0,1,0],  # -> 3\n",
    "              [0,0,0,0,1]]  # -> 4\n",
    "\n",
    "x_data = [0,1,0,2,3,3] #hihell\n",
    "x_one_hot = [one_hot_lo[x] for x in x_data]\n",
    "\n",
    "y_data = [1,0,2,3,3,4]  #ihello => This is what we want to predict\n",
    "y_one_hot = [one_hot_lo[x] for x in y_data]\n",
    "\n",
    "one_hot_size = len(one_hot_lo[0])\n",
    "\n",
    "inputs = torch.Tensor(x_one_hot).view(1,len(x_data),-1)\n",
    "labels = torch.Tensor(y_one_hot).view(1,len(x_data),-1)\n",
    "\n",
    "hidden = torch.zeros(1,1,len(idx2char))\n",
    "\n",
    "print(f'Inputs shape: {list(inputs.shape)}\\t\\tHidden shape: {list(hidden.shape)}\\t\\tLabels shape: {list(labels.shape)}')\n"
   ]
  },
  {
   "cell_type": "markdown",
   "metadata": {},
   "source": [
    "> Model"
   ]
  },
  {
   "cell_type": "code",
   "execution_count": 281,
   "metadata": {},
   "outputs": [],
   "source": [
    "class Model(nn.Module):\n",
    "    def __init__(self):\n",
    "        super().__init__()\n",
    "        \n",
    "        self.rnn = nn.RNN(one_hot_size, one_hot_size, batch_first = True)\n",
    "        \n",
    "    def forward(self, x, hidden):\n",
    "        out, hidden = self.rnn(x, hidden)\n",
    "        return out, hidden   "
   ]
  },
  {
   "cell_type": "code",
   "execution_count": 282,
   "metadata": {},
   "outputs": [
    {
     "name": "stdout",
     "output_type": "stream",
     "text": [
      "Output:  \ttorch.Size([1, 6, 5]) \n",
      "\n",
      "tensor([[[ 0.0082, -0.1055, -0.6333, -0.6649,  0.1409],\n",
      "         [-0.1106, -0.0915, -0.2151, -0.5443,  0.4216],\n",
      "         [-0.0455, -0.4799, -0.7099, -0.6418,  0.1976],\n",
      "         [-0.1409, -0.0830, -0.7381, -0.3330,  0.7737],\n",
      "         [-0.1594, -0.7195, -0.7649, -0.7581,  0.5538],\n",
      "         [ 0.0440, -0.7924, -0.7852, -0.7266,  0.7692]]])\n",
      " \n",
      "\n",
      "Hidden: \ttorch.Size([1, 1, 5]) \n",
      "\n",
      "tensor([[[ 0.0440, -0.7924, -0.7852, -0.7266,  0.7692]]])\n"
     ]
    }
   ],
   "source": [
    "rnn = Model()\n",
    "criterion = nn.MSELoss()\n",
    "optimizer = optim.Adam(rnn.parameters(),lr= 0.0002)\n",
    "output_rnn, hidden_rnn = rnn(inputs,hidden)\n",
    "print(f'Output:  \\t{output_rnn.shape} \\n\\n{output_rnn.data}\\n \\n\\nHidden: \\t{hidden_rnn.shape} \\n\\n{hidden_rnn.data}')"
   ]
  },
  {
   "cell_type": "code",
   "execution_count": 283,
   "metadata": {},
   "outputs": [
    {
     "data": {
      "text/plain": [
       "tensor([[[0., 0., 0., 1., 0.]]])"
      ]
     },
     "execution_count": 283,
     "metadata": {},
     "output_type": "execute_result"
    }
   ],
   "source": [
    "val_keep = inputs[:,5:6,:]\n",
    "val_keep"
   ]
  },
  {
   "cell_type": "code",
   "execution_count": 297,
   "metadata": {},
   "outputs": [
    {
     "name": "stdout",
     "output_type": "stream",
     "text": [
      "tensor([[[ 0.0075,  0.2021, -0.0072, -0.1319, -0.0039]]],\n",
      "       grad_fn=<StackBackward>) tensor([[[0., 1., 0., 0., 0.]]]) \n",
      "\n",
      "\n",
      "tensor([[[ 0.3858,  0.4277,  0.2326,  0.0707, -0.1214]]],\n",
      "       grad_fn=<StackBackward>) tensor([[[1., 0., 0., 0., 0.]]]) \n",
      "\n",
      "\n",
      "tensor([[[ 0.1687,  0.3263,  0.4354, -0.0082,  0.0352]]],\n",
      "       grad_fn=<StackBackward>) tensor([[[0., 0., 1., 0., 0.]]]) \n",
      "\n",
      "\n",
      "tensor([[[-0.0815,  0.4999,  0.1741,  0.5498,  0.1630]]],\n",
      "       grad_fn=<StackBackward>) tensor([[[0., 0., 0., 1., 0.]]]) \n",
      "\n",
      "\n",
      "tensor([[[ 0.0085,  0.0611, -0.0171,  0.1713,  0.0795]]],\n",
      "       grad_fn=<StackBackward>) tensor([[[0., 0., 0., 1., 0.]]]) \n",
      "\n",
      "\n",
      "tensor([[[ 0.1994,  0.0030, -0.0394,  0.0763,  0.3621]]],\n",
      "       grad_fn=<StackBackward>) tensor([[[0., 0., 0., 0., 1.]]]) \n",
      "\n",
      "\n",
      "Epoch: 1\t\tLoss: 0.11367703974246979\n"
     ]
    }
   ],
   "source": [
    "losses, losses_mean = [], []\n",
    "for epoch in range(1):\n",
    "    \n",
    "    for i in range(6):\n",
    "\n",
    "        rnn.zero_grad()\n",
    "\n",
    "        hidden, output = rnn(inputs[:,i:i+1,:],hidden)\n",
    "        print(output, labels[:,i:i+1,:],'\\n\\n')\n",
    "        loss = criterion(output,labels[:,i:i+1,:])\n",
    "        \n",
    "        losses.append(loss.item())\n",
    "        \n",
    "        loss.backward(retain_graph=True)\n",
    "        optimizer.step()\n",
    "        \n",
    "    losses_mean.append(st.mean(losses))\n",
    "    losses.clear()\n",
    "    print(f'Epoch: {epoch+1}\\t\\tLoss: {losses_mean[epoch]}') "
   ]
  },
  {
   "cell_type": "code",
   "execution_count": 285,
   "metadata": {},
   "outputs": [
    {
     "data": {
      "image/png": "[encoded data removed]",
      "text/plain": [
       "<Figure size 432x288 with 1 Axes>"
      ]
     },
     "metadata": {
      "needs_background": "light"
     },
     "output_type": "display_data"
    }
   ],
   "source": [
    "import matplotlib.pyplot as plt\n",
    "%matplotlib inline\n",
    "\n",
    "plt.plot(range(0,epoch+1),losses_mean,c='red',lw=3)\n",
    "\n",
    "plt.title('Error', c='darkred', fontsize=25, weight='bold', family = 'serif')\n",
    "plt.xlabel('Iterations')\n",
    "plt.ylabel('Error')\n",
    "plt.show()"
   ]
  },
  {
   "cell_type": "code",
   "execution_count": 287,
   "metadata": {},
   "outputs": [
    {
     "name": "stdout",
     "output_type": "stream",
     "text": [
      "Output:  \ttorch.Size([1, 6, 5]) \n",
      "\n",
      "tensor([[[ 0.0868,  0.2691,  0.0285, -0.0896,  0.0724],\n",
      "         [ 0.3674,  0.4230,  0.2681,  0.0753, -0.1618],\n",
      "         [ 0.1773,  0.3380,  0.4358, -0.0034,  0.0383],\n",
      "         [-0.0829,  0.5021,  0.1791,  0.5479,  0.1588],\n",
      "         [ 0.0090,  0.0646, -0.0156,  0.1678,  0.0779],\n",
      "         [ 0.2000,  0.0045, -0.0368,  0.0738,  0.3601]]])\n",
      "\n"
     ]
    }
   ],
   "source": [
    "hidden = torch.zeros(1,1,len(idx2char))\n",
    "output_rnn, _ = rnn(inputs,hidden)\n",
    "\n",
    "print(f'Output:  \\t{output_rnn.shape} \\n\\n{output_rnn.data}\\n')"
   ]
  },
  {
   "cell_type": "code",
   "execution_count": 291,
   "metadata": {},
   "outputs": [],
   "source": [
    "values, indices = torch.max(output_rnn, 1)"
   ]
  },
  {
   "cell_type": "code",
   "execution_count": 300,
   "metadata": {},
   "outputs": [
    {
     "data": {
      "text/plain": [
       "tensor([1, 3, 2, 3, 5])"
      ]
     },
     "execution_count": 300,
     "metadata": {},
     "output_type": "execute_result"
    }
   ],
   "source": [
    "indices[0]"
   ]
  },
  {
   "cell_type": "code",
   "execution_count": 299,
   "metadata": {},
   "outputs": [
    {
     "ename": "TypeError",
     "evalue": "only integer tensors of a single element can be converted to an index",
     "output_type": "error",
     "traceback": [
      "\u001b[1;31m---------------------------------------------------------------------------\u001b[0m",
      "\u001b[1;31mTypeError\u001b[0m                                 Traceback (most recent call last)",
      "\u001b[1;32m<ipython-input-299-7a6d87b3e6f8>\u001b[0m in \u001b[0;36m<module>\u001b[1;34m\u001b[0m\n\u001b[0;32m      1\u001b[0m \u001b[1;32mfor\u001b[0m \u001b[0mi\u001b[0m \u001b[1;32min\u001b[0m \u001b[0mrange\u001b[0m\u001b[1;33m(\u001b[0m\u001b[0mlen\u001b[0m\u001b[1;33m(\u001b[0m\u001b[0midx2char\u001b[0m\u001b[1;33m)\u001b[0m\u001b[1;33m)\u001b[0m\u001b[1;33m:\u001b[0m\u001b[1;33m\u001b[0m\u001b[1;33m\u001b[0m\u001b[0m\n\u001b[1;32m----> 2\u001b[1;33m     \u001b[0mprint\u001b[0m\u001b[1;33m(\u001b[0m\u001b[0midx2char\u001b[0m\u001b[1;33m[\u001b[0m\u001b[0mindices\u001b[0m\u001b[1;33m[\u001b[0m\u001b[0mi\u001b[0m\u001b[1;33m]\u001b[0m\u001b[1;33m]\u001b[0m\u001b[1;33m)\u001b[0m\u001b[1;33m\u001b[0m\u001b[1;33m\u001b[0m\u001b[0m\n\u001b[0m",
      "\u001b[1;31mTypeError\u001b[0m: only integer tensors of a single element can be converted to an index"
     ]
    }
   ],
   "source": [
    "for i in range(len(idx2char)):\n",
    "    print(idx2char[indices[0][i]])"
   ]
  },
  {
   "cell_type": "code",
   "execution_count": null,
   "metadata": {},
   "outputs": [],
   "source": []
  }
 ],
 "metadata": {
  "kernelspec": {
   "display_name": "Python 3",
   "language": "python",
   "name": "python3"
  },
  "language_info": {
   "codemirror_mode": {
    "name": "ipython",
    "version": 3
   },
   "file_extension": ".py",
   "mimetype": "text/x-python",
   "name": "python",
   "nbconvert_exporter": "python",
   "pygments_lexer": "ipython3",
   "version": "3.7.5"
  }
 },
 "nbformat": 4,
 "nbformat_minor": 4
}
