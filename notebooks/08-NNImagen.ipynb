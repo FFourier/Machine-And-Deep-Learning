{
 "cells": [
  {
   "cell_type": "code",
   "execution_count": 148,
   "metadata": {},
   "outputs": [],
   "source": [
    "import torch\n",
    "import torchvision\n",
    "from torchvision import transforms, datasets\n",
    "import torch.nn as nn\n",
    "import torch.nn.functional as F\n",
    "import torch.optim  as optim\n",
    "import matplotlib.pyplot as plt\n",
    "%matplotlib inline\n",
    "import numpy as np\n",
    "from tqdm import tqdm\n",
    "from random import randrange\n",
    "\n",
    "train=datasets.MNIST(\"\",train=True,download=True,transform=transforms.Compose([\n",
    "    transforms.ToTensor()\n",
    "]))\n",
    "\n",
    "test=datasets.MNIST(\"\",train=False,download=True,transform=transforms.Compose([\n",
    "    transforms.ToTensor()\n",
    "]))\n",
    "\n",
    "trainset= torch.utils.data.DataLoader(train,batch_size=10,shuffle=True)\n",
    "testset= torch.utils.data.DataLoader(test,batch_size=10,shuffle=True)"
   ]
  },
  {
   "cell_type": "code",
   "execution_count": 149,
   "metadata": {},
   "outputs": [
    {
     "name": "stdout",
     "output_type": "stream",
     "text": [
      "Net(\n",
      "  (fc1): Linear(in_features=784, out_features=64, bias=True)\n",
      "  (fc2): Linear(in_features=64, out_features=64, bias=True)\n",
      "  (fc3): Linear(in_features=64, out_features=64, bias=True)\n",
      "  (fc4): Linear(in_features=64, out_features=10, bias=True)\n",
      ")\n"
     ]
    }
   ],
   "source": [
    "class Net(nn.Module):\n",
    "    def __init__(self):\n",
    "        super().__init__()\n",
    "        self.fc1=nn.Linear(784, 64, bias=True) #Fully conected layer 1\n",
    "        self.fc2=nn.Linear(64, 64, bias=True)\n",
    "        self.fc3=nn.Linear(64, 64, bias=True)\n",
    "        self.fc4=nn.Linear(64, 10, bias=True)\n",
    "    \n",
    "    def forward(self,x):\n",
    "        x= F.relu(self.fc1(x)) \n",
    "        x= F.relu(self.fc2(x))\n",
    "        x= F.relu(self.fc3(x)) \n",
    "        x= self.fc4(x)\n",
    "        return F.softmax(x, dim=1)    \n",
    "        \n",
    "net=Net()\n",
    "print(net)"
   ]
  },
  {
   "cell_type": "code",
   "execution_count": 155,
   "metadata": {},
   "outputs": [
    {
     "name": "stderr",
     "output_type": "stream",
     "text": [
      "100%|██████████| 6000/6000 [00:29<00:00, 204.25it/s]\n",
      "  0%|          | 26/6000 [00:00<00:25, 229.95it/s]"
     ]
    },
    {
     "name": "stdout",
     "output_type": "stream",
     "text": [
      "tensor(-0.8221, grad_fn=<NllLossBackward>)\n"
     ]
    },
    {
     "name": "stderr",
     "output_type": "stream",
     "text": [
      "100%|██████████| 6000/6000 [00:30<00:00, 199.67it/s]\n",
      "  0%|          | 25/6000 [00:00<00:26, 223.74it/s]"
     ]
    },
    {
     "name": "stdout",
     "output_type": "stream",
     "text": [
      "tensor(-0.7846, grad_fn=<NllLossBackward>)\n"
     ]
    },
    {
     "name": "stderr",
     "output_type": "stream",
     "text": [
      "100%|██████████| 6000/6000 [00:31<00:00, 191.47it/s]"
     ]
    },
    {
     "name": "stdout",
     "output_type": "stream",
     "text": [
      "tensor(-0.9000, grad_fn=<NllLossBackward>)\n"
     ]
    },
    {
     "name": "stderr",
     "output_type": "stream",
     "text": [
      "\n"
     ]
    }
   ],
   "source": [
    "optimizer = optim.Adam(net.parameters(), lr=0.001)\n",
    "\n",
    "EPOCHS=3\n",
    "\n",
    "for epoch in range(EPOCHS):\n",
    "    for data in tqdm(trainset):\n",
    "        X,y=data\n",
    "         #Spliting the trainset into inputs(X) and outputs(y)\n",
    "        net.zero_grad()\n",
    "        output=net(X.view(-1,28*28))\n",
    "            #Pass the data throught the network\n",
    "        \n",
    "        #Ahora se calcula cuanto error hubo.\n",
    "        loss = F.nll_loss(output, y)\n",
    "        \n",
    "        loss.backward()\n",
    "        \n",
    "        optimizer.step()\n",
    "            #This is what adjust the weights for us\n",
    "    print(loss)"
   ]
  },
  {
   "cell_type": "code",
   "execution_count": 156,
   "metadata": {},
   "outputs": [
    {
     "name": "stderr",
     "output_type": "stream",
     "text": [
      "100%|██████████| 6000/6000 [00:11<00:00, 508.85it/s]"
     ]
    },
    {
     "name": "stdout",
     "output_type": "stream",
     "text": [
      "Accuracy:  0.957\n"
     ]
    },
    {
     "name": "stderr",
     "output_type": "stream",
     "text": [
      "\n"
     ]
    }
   ],
   "source": [
    "correct=0\n",
    "total=0\n",
    "\n",
    "with torch.no_grad():\n",
    "    # No queremos calcular los gradientes, solo queremos saber que tan buena es la red en este punto.\n",
    "    for data in tqdm(trainset):\n",
    "        X,y=data\n",
    "        output=net(X.view(-1,28*28))\n",
    "        for idx,i in enumerate(output):\n",
    "            if torch.argmax(i)==y[idx]:\n",
    "                # argmax Returns the indices of the maximum values along an axis.\n",
    "                correct +=1\n",
    "            total+=1\n",
    "            \n",
    "print('Accuracy: ',round(correct/total,3))"
   ]
  },
  {
   "cell_type": "code",
   "execution_count": 158,
   "metadata": {},
   "outputs": [
    {
     "data": {
      "image/png": "[encoded data removed]",
      "text/plain": [
       "<Figure size 432x288 with 1 Axes>"
      ]
     },
     "metadata": {
      "needs_background": "light"
     },
     "output_type": "display_data"
    }
   ],
   "source": [
    "for data in testset:\n",
    "        x_test,y_test=data\n",
    "        \n",
    "prueba=x_test[randrange(10)][0]\n",
    "\n",
    "output1=net(prueba.view(1,28*28))\n",
    "\n",
    "idx,salida=torch.max(output1,1)\n",
    "\n",
    "plt.imshow(prueba, cmap='gray')\n",
    "plt.title(str(salida))\n",
    "plt.show()\n"
   ]
  }
 ],
 "metadata": {
  "kernelspec": {
   "display_name": "Python 3",
   "language": "python",
   "name": "python3"
  },
  "language_info": {
   "codemirror_mode": {
    "name": "ipython",
    "version": 3
   },
   "file_extension": ".py",
   "mimetype": "text/x-python",
   "name": "python",
   "nbconvert_exporter": "python",
   "pygments_lexer": "ipython3",
   "version": "3.7.5"
  }
 },
 "nbformat": 4,
 "nbformat_minor": 4
}
