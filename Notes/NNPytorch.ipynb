{
 "cells": [
  {
   "cell_type": "markdown",
   "metadata": {},
   "source": [
    "# **Neural networks with Pytorch**\n",
    "---\n",
    "---"
   ]
  },
  {
   "cell_type": "markdown",
   "metadata": {},
   "source": [
    "### Libraries"
   ]
  },
  {
   "cell_type": "code",
   "execution_count": 40,
   "metadata": {},
   "outputs": [],
   "source": [
    "import numpy as np\n",
    "from tqdm import tqdm\n",
    "from skimage import transform,io\n",
    "\n",
    "import torch\n",
    "import torch.nn as nn\n",
    "import torch.nn.functional as F\n",
    "import torch.optim  as optim\n",
    "\n",
    "from torchvision import utils\n",
    "from torchvision import datasets\n",
    "from torchvision import transforms\n",
    "\n",
    "import matplotlib.pyplot as plt"
   ]
  },
  {
   "cell_type": "markdown",
   "metadata": {},
   "source": [
    "### Dataset"
   ]
  },
  {
   "cell_type": "code",
   "execution_count": 41,
   "metadata": {},
   "outputs": [],
   "source": [
    "train=datasets.MNIST(\"\",train=True,download=True,transform=transforms.Compose([\n",
    "    transforms.ToTensor()\n",
    "]))\n",
    "\n",
    "test=datasets.MNIST(\"\",train=False,download=True,transform=transforms.Compose([\n",
    "    transforms.ToTensor()\n",
    "]))\n",
    "\n",
    "trainset= torch.utils.data.DataLoader(train,batch_size=10,shuffle=True)\n",
    "testset= torch.utils.data.DataLoader(test,batch_size=10,shuffle=True)"
   ]
  },
  {
   "cell_type": "markdown",
   "metadata": {},
   "source": [
    "### Models"
   ]
  },
  {
   "cell_type": "code",
   "execution_count": 42,
   "metadata": {},
   "outputs": [
    {
     "name": "stdout",
     "output_type": "stream",
     "text": [
      "\u001b[94mNetwork with class\n",
      "\n",
      "\u001b[0m Net(\n",
      "  (fc1): Linear(in_features=784, out_features=64, bias=True)\n",
      "  (fc2): Linear(in_features=64, out_features=32, bias=True)\n",
      "  (fc3): Linear(in_features=32, out_features=16, bias=True)\n",
      "  (fc4): Linear(in_features=16, out_features=10, bias=True)\n",
      ") \u001b[94m\n",
      "\n",
      "Network with sequential\n",
      "\n",
      "\u001b[0m Sequential(\n",
      "  (0): Linear(in_features=784, out_features=64, bias=True)\n",
      "  (1): ReLU()\n",
      "  (2): Linear(in_features=64, out_features=32, bias=True)\n",
      "  (3): ReLU()\n",
      "  (4): Linear(in_features=32, out_features=16, bias=True)\n",
      "  (5): ReLU()\n",
      "  (6): Linear(in_features=16, out_features=10, bias=True)\n",
      "  (7): Softmax(dim=1)\n",
      ")\n"
     ]
    }
   ],
   "source": [
    "class Net(nn.Module):\n",
    "    def __init__(self):\n",
    "        super().__init__()\n",
    "        self.fc1=nn.Linear(784, 64, bias=True)\n",
    "        self.fc2=nn.Linear(64, 32, bias=True)\n",
    "        self.fc3=nn.Linear(32, 16, bias=True)\n",
    "        self.fc4=nn.Linear(16, 10, bias=True)\n",
    "    \n",
    "    def forward(self,x):\n",
    "        x= F.relu(self.fc1(x)) \n",
    "        x= F.relu(self.fc2(x))\n",
    "        x= F.relu(self.fc3(x)) \n",
    "        x= self.fc4(x)\n",
    "        return F.softmax(x, dim=1)\n",
    "    \n",
    "net_class=Net()    \n",
    "    \n",
    "net_seque = nn.Sequential( \n",
    "            nn.Linear(784, 64), \n",
    "            nn.ReLU(),\n",
    "            nn.Linear(64, 32),   \n",
    "            nn.ReLU(),\n",
    "            nn.Linear(32, 16),\n",
    "            nn.ReLU(),\n",
    "            nn.Linear(16, 10),\n",
    "            nn.Softmax(dim=1)\n",
    "            )\n",
    "\n",
    "class FO:\n",
    "    P = '\\033[95m'    #PURPLE\n",
    "    C = '\\033[96m'      #CYAN\n",
    "    D = '\\033[36m'  #DARKCYAN\n",
    "    B = '\\033[94m'      #BLUE\n",
    "    G = '\\033[92m'     #GREEN\n",
    "    Y = '\\033[93m'    #YELLOW\n",
    "    R = '\\033[91m'       #RED\n",
    "    N = '\\033[1m'       #BOLD\n",
    "    U = '\\033[4m'  #UNDERLINE\n",
    "    E = '\\033[0m'        #END\n",
    "\n",
    "print(FO.B+'Network with class\\n\\n'+FO.E, net_class, FO.B+'\\n\\nNetwork with sequential\\n\\n'+FO.E, net_seque)"
   ]
  },
  {
   "cell_type": "markdown",
   "metadata": {},
   "source": [
    "### Training"
   ]
  },
  {
   "cell_type": "code",
   "execution_count": 43,
   "metadata": {},
   "outputs": [
    {
     "name": "stderr",
     "output_type": "stream",
     "text": [
      "Loss calculation: 100%|██████████| 6000/6000 [00:36<00:00, 165.50it/s]\n",
      "Loss calculation:   0%|          | 16/6000 [00:00<00:38, 157.28it/s]"
     ]
    },
    {
     "name": "stdout",
     "output_type": "stream",
     "text": [
      "tensor(-0.9716, grad_fn=<NllLossBackward>)\n"
     ]
    },
    {
     "name": "stderr",
     "output_type": "stream",
     "text": [
      "Loss calculation: 100%|██████████| 6000/6000 [00:34<00:00, 174.56it/s]\n",
      "Loss calculation:   0%|          | 18/6000 [00:00<00:33, 176.95it/s]"
     ]
    },
    {
     "name": "stdout",
     "output_type": "stream",
     "text": [
      "tensor(-0.9993, grad_fn=<NllLossBackward>)\n"
     ]
    },
    {
     "name": "stderr",
     "output_type": "stream",
     "text": [
      "Loss calculation: 100%|██████████| 6000/6000 [00:36<00:00, 163.72it/s]"
     ]
    },
    {
     "name": "stdout",
     "output_type": "stream",
     "text": [
      "tensor(-1.0000, grad_fn=<NllLossBackward>)\n"
     ]
    },
    {
     "name": "stderr",
     "output_type": "stream",
     "text": [
      "\n"
     ]
    }
   ],
   "source": [
    "optimizer = optim.Adam(net_class.parameters(), lr=0.001)\n",
    "\n",
    "EPOCHS=3\n",
    "\n",
    "for epoch in range(EPOCHS):\n",
    "    for data in tqdm(trainset, desc='Loss calculation'):\n",
    "        X,y=data\n",
    "        net_class.zero_grad()\n",
    "        output=net_class(X.view(-1,28*28))\n",
    "        \n",
    "        loss = F.nll_loss(output, y)\n",
    "        \n",
    "        loss.backward()\n",
    "        \n",
    "        optimizer.step()\n",
    "\n",
    "    print(loss)"
   ]
  },
  {
   "cell_type": "code",
   "execution_count": 44,
   "metadata": {},
   "outputs": [
    {
     "name": "stderr",
     "output_type": "stream",
     "text": [
      "Loss calculation: 100%|██████████| 6000/6000 [00:34<00:00, 176.14it/s]\n",
      "Loss calculation:   0%|          | 11/6000 [00:00<00:54, 109.20it/s]"
     ]
    },
    {
     "name": "stdout",
     "output_type": "stream",
     "text": [
      "tensor(-0.8985, grad_fn=<NllLossBackward>)\n"
     ]
    },
    {
     "name": "stderr",
     "output_type": "stream",
     "text": [
      "Loss calculation: 100%|██████████| 6000/6000 [00:34<00:00, 173.02it/s]\n",
      "Loss calculation:   0%|          | 16/6000 [00:00<00:39, 152.80it/s]"
     ]
    },
    {
     "name": "stdout",
     "output_type": "stream",
     "text": [
      "tensor(-0.8967, grad_fn=<NllLossBackward>)\n"
     ]
    },
    {
     "name": "stderr",
     "output_type": "stream",
     "text": [
      "Loss calculation: 100%|██████████| 6000/6000 [00:35<00:00, 169.53it/s]"
     ]
    },
    {
     "name": "stdout",
     "output_type": "stream",
     "text": [
      "tensor(-0.9998, grad_fn=<NllLossBackward>)\n"
     ]
    },
    {
     "name": "stderr",
     "output_type": "stream",
     "text": [
      "\n"
     ]
    }
   ],
   "source": [
    "optimizer = optim.Adam(net_seque.parameters(), lr=0.001)\n",
    "\n",
    "EPOCHS=3\n",
    "\n",
    "for epoch in range(EPOCHS):\n",
    "    for data in tqdm(trainset, desc='Loss calculation'):\n",
    "        X,y=data\n",
    "    \n",
    "        net_seque.zero_grad()\n",
    "        \n",
    "        output=net_seque(X.view(-1,28*28))\n",
    "        \n",
    "        loss = F.nll_loss(output, y)\n",
    "        \n",
    "        loss.backward()\n",
    "        \n",
    "        optimizer.step()\n",
    "\n",
    "    print(loss)"
   ]
  },
  {
   "cell_type": "markdown",
   "metadata": {},
   "source": [
    "### Accuracy"
   ]
  },
  {
   "cell_type": "code",
   "execution_count": 45,
   "metadata": {},
   "outputs": [
    {
     "name": "stderr",
     "output_type": "stream",
     "text": [
      "Accuracy calculation: 100%|██████████| 6000/6000 [00:16<00:00, 371.80it/s]"
     ]
    },
    {
     "name": "stdout",
     "output_type": "stream",
     "text": [
      "Accuracy:  0.949\n"
     ]
    },
    {
     "name": "stderr",
     "output_type": "stream",
     "text": [
      "\n"
     ]
    }
   ],
   "source": [
    "correct=0\n",
    "total=0\n",
    "\n",
    "with torch.no_grad():\n",
    "    for data in tqdm(trainset, desc='Accuracy calculation'):\n",
    "        X,y=data\n",
    "        output=net_class(X.view(-1,28*28))\n",
    "        for idx,i in enumerate(output):\n",
    "            if torch.argmax(i)==y[idx]:\n",
    "                correct +=1\n",
    "            total+=1\n",
    "            \n",
    "print('Accuracy: ',round(correct/total,3))"
   ]
  },
  {
   "cell_type": "code",
   "execution_count": 46,
   "metadata": {},
   "outputs": [
    {
     "name": "stderr",
     "output_type": "stream",
     "text": [
      "Accuracy calculation: 100%|██████████| 6000/6000 [00:15<00:00, 384.82it/s]"
     ]
    },
    {
     "name": "stdout",
     "output_type": "stream",
     "text": [
      "Accuracy:  0.941\n"
     ]
    },
    {
     "name": "stderr",
     "output_type": "stream",
     "text": [
      "\n"
     ]
    }
   ],
   "source": [
    "correct=0\n",
    "total=0\n",
    "\n",
    "with torch.no_grad():\n",
    "    for data in tqdm(trainset, desc='Accuracy calculation'):\n",
    "        X,y=data\n",
    "        output=net_seque(X.view(-1,28*28))\n",
    "        for idx,i in enumerate(output):\n",
    "            if torch.argmax(i)==y[idx]:\n",
    "                correct +=1\n",
    "            total+=1\n",
    "            \n",
    "print('Accuracy: ',round(correct/total,3))"
   ]
  },
  {
   "cell_type": "markdown",
   "metadata": {},
   "source": [
    "### Testing"
   ]
  },
  {
   "cell_type": "code",
   "execution_count": 47,
   "metadata": {},
   "outputs": [],
   "source": [
    "grey = io.imread('try.png', as_gray=True)\n",
    "\n",
    "small_grey = transform.resize(grey, (28,28), mode='symmetric', preserve_range=True)\n",
    "\n",
    "input_img = torch.Tensor([i for i in small_grey])\n",
    "\n",
    "font = {'family': 'serif',\n",
    "        'color':  'darkred',\n",
    "        'weight': 'normal',\n",
    "        'size': 16,\n",
    "        }"
   ]
  },
  {
   "cell_type": "code",
   "execution_count": 48,
   "metadata": {},
   "outputs": [
    {
     "data": {
      "image/png": "[encoded data removed]",
      "text/plain": [
       "<Figure size 576x288 with 2 Axes>"
      ]
     },
     "metadata": {
      "needs_background": "light"
     },
     "output_type": "display_data"
    }
   ],
   "source": [
    "out_net_class=net_class(input_img.view(1,28*28))\n",
    "idx_class, salida_class=torch.max(out_net_class,1)\n",
    "\n",
    "out_net_seque=net_seque(input_img.view(1,28*28))\n",
    "idx_seque, salida_seque=torch.max(out_net_seque,1)\n",
    "\n",
    "fig, axs = plt.subplots(1,2, constrained_layout=True)\n",
    "fig.set_size_inches(8, 4)\n",
    "fig.suptitle('Neural network in two different ways', fontsize=30)\n",
    "axs[0].imshow(input_img, cmap='gray')\n",
    "axs[0].set_title(str(salida_class),  fontdict=font)\n",
    "axs[0].axis('off')\n",
    "\n",
    "axs[1].imshow(input_img, cmap='gray')\n",
    "axs[1].set_title(str(salida_seque),  fontdict=font)\n",
    "axs[1].axis('off')\n",
    "\n",
    "plt.show()"
   ]
  }
 ],
 "metadata": {
  "kernelspec": {
   "display_name": "Python 3",
   "language": "python",
   "name": "python3"
  },
  "language_info": {
   "codemirror_mode": {
    "name": "ipython",
    "version": 3
   },
   "file_extension": ".py",
   "mimetype": "text/x-python",
   "name": "python",
   "nbconvert_exporter": "python",
   "pygments_lexer": "ipython3",
   "version": "3.7.5"
  }
 },
 "nbformat": 4,
 "nbformat_minor": 4
}
