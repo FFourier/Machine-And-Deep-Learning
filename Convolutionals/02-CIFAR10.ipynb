{
 "cells": [
  {
   "cell_type": "markdown",
   "metadata": {},
   "source": [
    "## Libraries"
   ]
  },
  {
   "cell_type": "code",
   "execution_count": 45,
   "metadata": {},
   "outputs": [],
   "source": [
    "import numpy as np\n",
    "\n",
    "import torch\n",
    "import torch.nn as nn\n",
    "import torch.optim as optim\n",
    "import torch.nn.functional as F\n",
    "\n",
    "from torchvision import utils\n",
    "from torchvision import datasets\n",
    "from torchvision import transforms\n",
    "\n",
    "from PIL import Image\n",
    "import urllib.request as request\n",
    "from matplotlib import pyplot as plt\n",
    "\n",
    "from tqdm import tqdm, trange\n",
    "\n",
    "from collections import Counter"
   ]
  },
  {
   "cell_type": "markdown",
   "metadata": {},
   "source": [
    "## Data"
   ]
  },
  {
   "cell_type": "code",
   "execution_count": 57,
   "metadata": {},
   "outputs": [
    {
     "name": "stdout",
     "output_type": "stream",
     "text": [
      "Files already downloaded and verified\n",
      "Files already downloaded and verified\n"
     ]
    }
   ],
   "source": [
    "data_path = 'CIFAR1/data'\n",
    "train = datasets.CIFAR10(data_path, train=True, download=True, transform=transforms.Compose([\n",
    "                            transforms.Grayscale(num_output_channels=1), \n",
    "                            transforms.ToTensor()]))\n",
    "\n",
    "test = datasets.CIFAR10(data_path, train=False, download=True, transform=transforms.Compose([\n",
    "                            transforms.Grayscale(num_output_channels=1), \n",
    "                            transforms.ToTensor()]))"
   ]
  },
  {
   "cell_type": "code",
   "execution_count": 58,
   "metadata": {},
   "outputs": [
    {
     "name": "stdout",
     "output_type": "stream",
     "text": [
      "Original labels: ['plane', 'car', 'bird', 'cat', 'deer', 'dog', 'frog', 'horse', 'ship', 'truck']\n",
      "\n",
      "Trainset:\t[50000, 2, 1, 32, 32]\n",
      "Testset:\t[10000, 2, 1, 32, 32]\n"
     ]
    }
   ],
   "source": [
    "classes = ['plane','car','bird','cat','deer','dog','frog','horse','ship','truck']\n",
    "print(f'Original labels: {classes}\\n')\n",
    "print(f'Trainset:\\t[{len(train)}, {len(train[0])}, {len(train[0][0])}, {len(train[0][0][0])}, {len(train[0][0][0][0])}]')\n",
    "print(f'Testset:\\t[{len(test)}, {len(test[0])}, {len(test[0][0])}, {len(test[0][0][0])}, {len(test[0][0][0][0])}]')"
   ]
  },
  {
   "cell_type": "code",
   "execution_count": 59,
   "metadata": {},
   "outputs": [
    {
     "name": "stdout",
     "output_type": "stream",
     "text": [
      "Erased labels: ['cat', 'deer', 'dog', 'frog', 'truck']\n"
     ]
    }
   ],
   "source": [
    "dc = [3,4,5,6,9]\n",
    "\n",
    "t_label=[]\n",
    "t_img=[]\n",
    "\n",
    "for img, label in train:\n",
    "    if label != dc[0] and label != dc[1] and label != dc[2] and label != dc[3] and label != dc[4]:\n",
    "        t_img.append(img)\n",
    "        t_label.append(label)\n",
    "    \n",
    "\n",
    "v_label=[]\n",
    "v_img=[]\n",
    "\n",
    "for img, label in test:\n",
    "    if label != dc[0] and label != dc[1] and label != dc[2] and label != dc[3] and label != dc[4]:\n",
    "        v_img.append(img)\n",
    "        v_label.append(label)\n",
    "\n",
    "        \n",
    "erased=[]\n",
    "for i in range(len(dc)):\n",
    "    erased.append(classes.pop(dc[i]-i))\n",
    "    \n",
    "print(f'Erased labels: {erased}')\n",
    "\n",
    "t_label = [3 if x == 8 else x for x in t_label]\n",
    "t_label = [4 if x == 7 else x for x in t_label]\n",
    "\n",
    "v_label = [3 if x == 8 else x for x in v_label]\n",
    "v_label = [4 if x == 7 else x for x in v_label]"
   ]
  },
  {
   "cell_type": "code",
   "execution_count": 62,
   "metadata": {},
   "outputs": [
    {
     "name": "stdout",
     "output_type": "stream",
     "text": [
      "Number of labels: 5\n",
      "Final labels: ['plane', 'car', 'bird', 'horse', 'ship']\n",
      "Final index: [0, 1, 2, 3, 4]\n",
      "\n",
      "Trainset:\ttorch.Size([25000, 1, 32, 32])\tLabels:\t25000\n",
      "Testset:\ttorch.Size([5000, 1, 32, 32])\tLabels:\t5000\n",
      "\n",
      "\n",
      "Trainset:\ttorch.Size([25000, 32, 32])\n",
      "Testset:\ttorch.Size([5000, 32, 32])\n"
     ]
    }
   ],
   "source": [
    "print(f'Number of labels: {len(classes)}')\n",
    "print(f'Final labels: {classes}')\n",
    "\n",
    "f_index=list(Counter(t_label).keys())\n",
    "f_index.sort()\n",
    "\n",
    "print(f'Final index: {f_index}\\n')\n",
    "\n",
    "\n",
    "X_s = torch.Tensor(len(t_img), len(t_img[0]), len(t_img[0][0]), len(t_img[0][0][0]))\n",
    "X_a_s = torch.Tensor(len(v_img), len(v_img[0]), len(v_img[0][0]), len(v_img[0][0][0]))\n",
    "\n",
    "print(f'Trainset:\\t{X_s.shape}\\tLabels:\\t{len(t_label)}')\n",
    "print(f'Testset:\\t{X_a_s.shape}\\tLabels:\\t{len(v_label)}\\n\\n')\n",
    "\n",
    "X = torch.cat(t_img, dim=0, out=X_s)\n",
    "Y = torch.tensor(t_label)\n",
    "\n",
    "X_a = torch.cat(v_img, dim=0, out=X_a_s)\n",
    "Y_a = torch.tensor(v_label)\n",
    "\n",
    "print(f'Trainset:\\t{X.shape}')\n",
    "print(f'Testset:\\t{X_a.shape}')"
   ]
  },
  {
   "cell_type": "code",
   "execution_count": 108,
   "metadata": {},
   "outputs": [
    {
     "data": {
      "image/png": "[encoded data removed]",
      "text/plain": [
       "<Figure size 432x288 with 1 Axes>"
      ]
     },
     "metadata": {
      "needs_background": "light"
     },
     "output_type": "display_data"
    }
   ],
   "source": [
    "plt.imshow(X[8],cmap='gray')\n",
    "plt.axis('off')\n",
    "plt.show()"
   ]
  },
  {
   "cell_type": "markdown",
   "metadata": {},
   "source": [
    "## Network"
   ]
  },
  {
   "cell_type": "code",
   "execution_count": 50,
   "metadata": {},
   "outputs": [],
   "source": [
    "class Net(nn.Module):\n",
    "    def __init__(self):\n",
    "        super().__init__()\n",
    "        \n",
    "        self.conv1 = nn.Conv2d(1, 16, 5)\n",
    "        self.conv2 = nn.Conv2d(16, 32, 5)\n",
    "        \n",
    "        self.fc1=nn.Linear(32*5*5, 170, bias=True)\n",
    "        self.fc2=nn.Linear(170, 56, bias=True)\n",
    "        self.fc3=nn.Linear(56, 5, bias=True)\n",
    "    \n",
    "    def forward(self,x):\n",
    "        \n",
    "        x = F.max_pool2d(F.relu(self.conv1(x)), (2, 2))\n",
    "        x = F.max_pool2d(F.relu(self.conv2(x)), (2, 2))\n",
    "        \n",
    "        x = torch.flatten(x, start_dim=1)\n",
    "        \n",
    "        x= F.relu(self.fc1(x)) \n",
    "        x= F.relu(self.fc2(x))\n",
    "        x= self.fc3(x)\n",
    "        \n",
    "        return F.softmax(x, dim=1)"
   ]
  },
  {
   "cell_type": "markdown",
   "metadata": {},
   "source": [
    "## CUDA"
   ]
  },
  {
   "cell_type": "code",
   "execution_count": 51,
   "metadata": {},
   "outputs": [
    {
     "name": "stdout",
     "output_type": "stream",
     "text": [
      "Running on the GPU\n"
     ]
    }
   ],
   "source": [
    "torch.cuda.empty_cache()\n",
    "if torch.cuda.is_available():\n",
    "    device = torch.device(\"cuda:0\")\n",
    "    net_class = Net().to(device)\n",
    "    print(\"Running on the GPU\")\n",
    "else:\n",
    "    device = torch.device(\"cpu\")\n",
    "    net_class = Net()\n",
    "    print(\"Running on the CPU\")"
   ]
  },
  {
   "cell_type": "markdown",
   "metadata": {},
   "source": [
    "## Training loop"
   ]
  },
  {
   "cell_type": "code",
   "execution_count": 53,
   "metadata": {},
   "outputs": [
    {
     "name": "stderr",
     "output_type": "stream",
     "text": [
      "Loss calculation:   0%|          | 6/2500 [00:00<00:41, 59.57it/s]"
     ]
    },
    {
     "name": "stdout",
     "output_type": "stream",
     "text": [
      "Output shape: torch.Size([10, 5])\t Y shape: torch.Size([10])\n"
     ]
    },
    {
     "name": "stderr",
     "output_type": "stream",
     "text": [
      "Loss calculation: 100%|██████████| 2500/2500 [00:28<00:00, 87.85it/s]\n",
      "Loss calculation:   0%|          | 8/2500 [00:00<00:34, 72.64it/s]"
     ]
    },
    {
     "name": "stdout",
     "output_type": "stream",
     "text": [
      "Epoch 1 error mean 0.13939\n"
     ]
    },
    {
     "name": "stderr",
     "output_type": "stream",
     "text": [
      "Loss calculation: 100%|██████████| 2500/2500 [00:34<00:00, 71.94it/s]\n",
      "Loss calculation:   0%|          | 7/2500 [00:00<00:36, 68.54it/s]"
     ]
    },
    {
     "name": "stdout",
     "output_type": "stream",
     "text": [
      "Epoch 2 error mean 0.12834\n"
     ]
    },
    {
     "name": "stderr",
     "output_type": "stream",
     "text": [
      "Loss calculation: 100%|██████████| 2500/2500 [00:34<00:00, 71.90it/s]\n",
      "Loss calculation:   0%|          | 7/2500 [00:00<00:37, 67.19it/s]"
     ]
    },
    {
     "name": "stdout",
     "output_type": "stream",
     "text": [
      "Epoch 3 error mean 0.12273\n"
     ]
    },
    {
     "name": "stderr",
     "output_type": "stream",
     "text": [
      "Loss calculation: 100%|██████████| 2500/2500 [00:34<00:00, 71.78it/s]\n",
      "Loss calculation:   0%|          | 6/2500 [00:00<00:43, 57.19it/s]"
     ]
    },
    {
     "name": "stdout",
     "output_type": "stream",
     "text": [
      "Epoch 4 error mean 0.11899\n"
     ]
    },
    {
     "name": "stderr",
     "output_type": "stream",
     "text": [
      "Loss calculation: 100%|██████████| 2500/2500 [00:35<00:00, 71.30it/s]\n",
      "Loss calculation:   0%|          | 7/2500 [00:00<00:36, 68.69it/s]"
     ]
    },
    {
     "name": "stdout",
     "output_type": "stream",
     "text": [
      "Epoch 5 error mean 0.11691\n"
     ]
    },
    {
     "name": "stderr",
     "output_type": "stream",
     "text": [
      "Loss calculation: 100%|██████████| 2500/2500 [00:34<00:00, 71.86it/s]\n",
      "Loss calculation:   0%|          | 7/2500 [00:00<00:36, 68.81it/s]"
     ]
    },
    {
     "name": "stdout",
     "output_type": "stream",
     "text": [
      "Epoch 6 error mean 0.11540\n"
     ]
    },
    {
     "name": "stderr",
     "output_type": "stream",
     "text": [
      "Loss calculation: 100%|██████████| 2500/2500 [00:34<00:00, 72.12it/s]\n",
      "Loss calculation:   0%|          | 7/2500 [00:00<00:36, 67.59it/s]"
     ]
    },
    {
     "name": "stdout",
     "output_type": "stream",
     "text": [
      "Epoch 7 error mean 0.11390\n"
     ]
    },
    {
     "name": "stderr",
     "output_type": "stream",
     "text": [
      "Loss calculation: 100%|██████████| 2500/2500 [00:34<00:00, 72.33it/s]\n",
      "Loss calculation:   0%|          | 7/2500 [00:00<00:36, 68.94it/s]"
     ]
    },
    {
     "name": "stdout",
     "output_type": "stream",
     "text": [
      "Epoch 8 error mean 0.11291\n"
     ]
    },
    {
     "name": "stderr",
     "output_type": "stream",
     "text": [
      "Loss calculation: 100%|██████████| 2500/2500 [00:34<00:00, 72.09it/s]\n",
      "Loss calculation:   0%|          | 8/2500 [00:00<00:33, 73.91it/s]"
     ]
    },
    {
     "name": "stdout",
     "output_type": "stream",
     "text": [
      "Epoch 9 error mean 0.11201\n"
     ]
    },
    {
     "name": "stderr",
     "output_type": "stream",
     "text": [
      "Loss calculation: 100%|██████████| 2500/2500 [00:34<00:00, 72.01it/s]\n",
      "Loss calculation:   0%|          | 6/2500 [00:00<00:44, 56.20it/s]"
     ]
    },
    {
     "name": "stdout",
     "output_type": "stream",
     "text": [
      "Epoch 10 error mean 0.11152\n"
     ]
    },
    {
     "name": "stderr",
     "output_type": "stream",
     "text": [
      "Loss calculation: 100%|██████████| 2500/2500 [00:34<00:00, 72.19it/s]\n",
      "Loss calculation:   0%|          | 8/2500 [00:00<00:34, 71.37it/s]"
     ]
    },
    {
     "name": "stdout",
     "output_type": "stream",
     "text": [
      "Epoch 11 error mean 0.11034\n"
     ]
    },
    {
     "name": "stderr",
     "output_type": "stream",
     "text": [
      "Loss calculation: 100%|██████████| 2500/2500 [00:34<00:00, 72.35it/s]\n",
      "Loss calculation:   0%|          | 8/2500 [00:00<00:33, 73.54it/s]"
     ]
    },
    {
     "name": "stdout",
     "output_type": "stream",
     "text": [
      "Epoch 12 error mean 0.10989\n"
     ]
    },
    {
     "name": "stderr",
     "output_type": "stream",
     "text": [
      "Loss calculation: 100%|██████████| 2500/2500 [00:34<00:00, 72.50it/s]\n",
      "Loss calculation:   0%|          | 7/2500 [00:00<00:37, 65.65it/s]"
     ]
    },
    {
     "name": "stdout",
     "output_type": "stream",
     "text": [
      "Epoch 13 error mean 0.10859\n"
     ]
    },
    {
     "name": "stderr",
     "output_type": "stream",
     "text": [
      "Loss calculation: 100%|██████████| 2500/2500 [00:34<00:00, 72.02it/s]\n",
      "Loss calculation:   0%|          | 8/2500 [00:00<00:33, 74.80it/s]"
     ]
    },
    {
     "name": "stdout",
     "output_type": "stream",
     "text": [
      "Epoch 14 error mean 0.10855\n"
     ]
    },
    {
     "name": "stderr",
     "output_type": "stream",
     "text": [
      "Loss calculation: 100%|██████████| 2500/2500 [00:34<00:00, 72.31it/s]\n",
      "Loss calculation:   0%|          | 7/2500 [00:00<00:35, 69.54it/s]"
     ]
    },
    {
     "name": "stdout",
     "output_type": "stream",
     "text": [
      "Epoch 15 error mean 0.10806\n"
     ]
    },
    {
     "name": "stderr",
     "output_type": "stream",
     "text": [
      "Loss calculation: 100%|██████████| 2500/2500 [00:34<00:00, 72.23it/s]\n",
      "Loss calculation:   0%|          | 6/2500 [00:00<00:42, 58.37it/s]"
     ]
    },
    {
     "name": "stdout",
     "output_type": "stream",
     "text": [
      "Epoch 16 error mean 0.10730\n"
     ]
    },
    {
     "name": "stderr",
     "output_type": "stream",
     "text": [
      "Loss calculation: 100%|██████████| 2500/2500 [00:34<00:00, 72.28it/s]\n",
      "Loss calculation:   0%|          | 8/2500 [00:00<00:34, 73.06it/s]"
     ]
    },
    {
     "name": "stdout",
     "output_type": "stream",
     "text": [
      "Epoch 17 error mean 0.10662\n"
     ]
    },
    {
     "name": "stderr",
     "output_type": "stream",
     "text": [
      "Loss calculation: 100%|██████████| 2500/2500 [00:34<00:00, 72.34it/s]\n",
      "Loss calculation:   0%|          | 7/2500 [00:00<00:37, 67.34it/s]"
     ]
    },
    {
     "name": "stdout",
     "output_type": "stream",
     "text": [
      "Epoch 18 error mean 0.10622\n"
     ]
    },
    {
     "name": "stderr",
     "output_type": "stream",
     "text": [
      "Loss calculation: 100%|██████████| 2500/2500 [00:34<00:00, 72.26it/s]\n",
      "Loss calculation:   0%|          | 8/2500 [00:00<00:32, 75.68it/s]"
     ]
    },
    {
     "name": "stdout",
     "output_type": "stream",
     "text": [
      "Epoch 19 error mean 0.10568\n"
     ]
    },
    {
     "name": "stderr",
     "output_type": "stream",
     "text": [
      "Loss calculation: 100%|██████████| 2500/2500 [00:34<00:00, 72.15it/s]\n",
      "Loss calculation:   0%|          | 8/2500 [00:00<00:34, 72.51it/s]"
     ]
    },
    {
     "name": "stdout",
     "output_type": "stream",
     "text": [
      "Epoch 20 error mean 0.10567\n"
     ]
    },
    {
     "name": "stderr",
     "output_type": "stream",
     "text": [
      "Loss calculation: 100%|██████████| 2500/2500 [00:34<00:00, 72.50it/s]\n",
      "Loss calculation:   0%|          | 7/2500 [00:00<00:36, 68.52it/s]"
     ]
    },
    {
     "name": "stdout",
     "output_type": "stream",
     "text": [
      "Epoch 21 error mean 0.10560\n"
     ]
    },
    {
     "name": "stderr",
     "output_type": "stream",
     "text": [
      "Loss calculation: 100%|██████████| 2500/2500 [00:34<00:00, 72.19it/s]\n",
      "Loss calculation:   0%|          | 6/2500 [00:00<00:43, 57.97it/s]"
     ]
    },
    {
     "name": "stdout",
     "output_type": "stream",
     "text": [
      "Epoch 22 error mean 0.10526\n"
     ]
    },
    {
     "name": "stderr",
     "output_type": "stream",
     "text": [
      "Loss calculation: 100%|██████████| 2500/2500 [00:35<00:00, 71.39it/s]\n",
      "Loss calculation:   0%|          | 8/2500 [00:00<00:34, 73.29it/s]"
     ]
    },
    {
     "name": "stdout",
     "output_type": "stream",
     "text": [
      "Epoch 23 error mean 0.10510\n"
     ]
    },
    {
     "name": "stderr",
     "output_type": "stream",
     "text": [
      "Loss calculation: 100%|██████████| 2500/2500 [00:34<00:00, 71.72it/s]\n",
      "Loss calculation:   0%|          | 7/2500 [00:00<00:37, 65.94it/s]"
     ]
    },
    {
     "name": "stdout",
     "output_type": "stream",
     "text": [
      "Epoch 24 error mean 0.10495\n"
     ]
    },
    {
     "name": "stderr",
     "output_type": "stream",
     "text": [
      "Loss calculation: 100%|██████████| 2500/2500 [00:34<00:00, 71.58it/s]\n",
      "Loss calculation:   0%|          | 7/2500 [00:00<00:40, 62.02it/s]"
     ]
    },
    {
     "name": "stdout",
     "output_type": "stream",
     "text": [
      "Epoch 25 error mean 0.10483\n"
     ]
    },
    {
     "name": "stderr",
     "output_type": "stream",
     "text": [
      "Loss calculation: 100%|██████████| 2500/2500 [00:35<00:00, 71.18it/s]\n",
      "Loss calculation:   0%|          | 8/2500 [00:00<00:34, 71.95it/s]"
     ]
    },
    {
     "name": "stdout",
     "output_type": "stream",
     "text": [
      "Epoch 26 error mean 0.10461\n"
     ]
    },
    {
     "name": "stderr",
     "output_type": "stream",
     "text": [
      "Loss calculation: 100%|██████████| 2500/2500 [00:34<00:00, 71.83it/s]\n",
      "Loss calculation:   0%|          | 7/2500 [00:00<00:36, 69.03it/s]"
     ]
    },
    {
     "name": "stdout",
     "output_type": "stream",
     "text": [
      "Epoch 27 error mean 0.10467\n"
     ]
    },
    {
     "name": "stderr",
     "output_type": "stream",
     "text": [
      "Loss calculation: 100%|██████████| 2500/2500 [00:35<00:00, 70.85it/s]\n",
      "Loss calculation:   0%|          | 8/2500 [00:00<00:33, 74.68it/s]"
     ]
    },
    {
     "name": "stdout",
     "output_type": "stream",
     "text": [
      "Epoch 28 error mean 0.10400\n"
     ]
    },
    {
     "name": "stderr",
     "output_type": "stream",
     "text": [
      "Loss calculation: 100%|██████████| 2500/2500 [00:34<00:00, 71.54it/s]\n",
      "Loss calculation:   0%|          | 8/2500 [00:00<00:35, 70.27it/s]"
     ]
    },
    {
     "name": "stdout",
     "output_type": "stream",
     "text": [
      "Epoch 29 error mean 0.10403\n"
     ]
    },
    {
     "name": "stderr",
     "output_type": "stream",
     "text": [
      "Loss calculation: 100%|██████████| 2500/2500 [00:35<00:00, 71.30it/s]\n",
      "Loss calculation:   0%|          | 7/2500 [00:00<00:37, 67.19it/s]"
     ]
    },
    {
     "name": "stdout",
     "output_type": "stream",
     "text": [
      "Epoch 30 error mean 0.10418\n"
     ]
    },
    {
     "name": "stderr",
     "output_type": "stream",
     "text": [
      "Loss calculation: 100%|██████████| 2500/2500 [00:34<00:00, 71.67it/s]\n",
      "Loss calculation:   0%|          | 8/2500 [00:00<00:34, 72.21it/s]"
     ]
    },
    {
     "name": "stdout",
     "output_type": "stream",
     "text": [
      "Epoch 31 error mean 0.10420\n"
     ]
    },
    {
     "name": "stderr",
     "output_type": "stream",
     "text": [
      "Loss calculation: 100%|██████████| 2500/2500 [00:34<00:00, 71.88it/s]\n",
      "Loss calculation:   0%|          | 7/2500 [00:00<00:35, 69.96it/s]"
     ]
    },
    {
     "name": "stdout",
     "output_type": "stream",
     "text": [
      "Epoch 32 error mean 0.10421\n"
     ]
    },
    {
     "name": "stderr",
     "output_type": "stream",
     "text": [
      "Loss calculation: 100%|██████████| 2500/2500 [00:34<00:00, 71.99it/s]\n",
      "Loss calculation:   0%|          | 7/2500 [00:00<00:40, 61.68it/s]"
     ]
    },
    {
     "name": "stdout",
     "output_type": "stream",
     "text": [
      "Epoch 33 error mean 0.10395\n"
     ]
    },
    {
     "name": "stderr",
     "output_type": "stream",
     "text": [
      "Loss calculation: 100%|██████████| 2500/2500 [00:35<00:00, 71.39it/s]\n",
      "Loss calculation:   0%|          | 7/2500 [00:00<00:36, 67.87it/s]"
     ]
    },
    {
     "name": "stdout",
     "output_type": "stream",
     "text": [
      "Epoch 34 error mean 0.10340\n"
     ]
    },
    {
     "name": "stderr",
     "output_type": "stream",
     "text": [
      "Loss calculation: 100%|██████████| 2500/2500 [00:34<00:00, 72.00it/s]"
     ]
    },
    {
     "name": "stdout",
     "output_type": "stream",
     "text": [
      "Epoch 35 error mean 0.10334\n"
     ]
    },
    {
     "name": "stderr",
     "output_type": "stream",
     "text": [
      "\n"
     ]
    }
   ],
   "source": [
    "batch_size = 10\n",
    "epochs = 35\n",
    "\n",
    "optimizer = optim.Adam(net_class.parameters(),lr= 0.0008)\n",
    "loss_function = nn.CrossEntropyLoss()\n",
    "\n",
    "loss_grap=[]\n",
    "mean_grap=[]\n",
    "prin = True\n",
    "\n",
    "for epoch in range(epochs):\n",
    "    loss_mean=0\n",
    "    for i in trange(0, len(X), batch_size,  desc='Loss calculation'):\n",
    "        \n",
    "        batch_X=X[i:i+batch_size].view(-1,1,32,32)\n",
    "        batch_y=Y[i:i+batch_size]\n",
    "        \n",
    "        x,y = batch_X.to(device), batch_y.to(device)\n",
    "        \n",
    "        net_class.zero_grad()\n",
    "        \n",
    "        output=net_class(x.view(-1,1,32,32))\n",
    "        \n",
    "        if prin:\n",
    "            print(f'Output shape: {output.shape}\\t Y shape: {y.shape}')\n",
    "            prin = False\n",
    "        \n",
    "        loss = loss_function(output, y)\n",
    "        \n",
    "        loss.backward()\n",
    "        \n",
    "        optimizer.step()\n",
    "        \n",
    "        loss_grap.append(loss)\n",
    "    \n",
    "        loss_mean+=loss\n",
    "        \n",
    "    print(f'Epoch {epoch+1} error mean {((loss_mean/i).item()):.5f}')\n",
    "    mean_grap.append((loss_mean/i).item())"
   ]
  },
  {
   "cell_type": "markdown",
   "metadata": {},
   "source": [
    "## Error"
   ]
  },
  {
   "cell_type": "code",
   "execution_count": 54,
   "metadata": {},
   "outputs": [
    {
     "data": {
      "image/png": "[encoded data removed]",
      "text/plain": [
       "<Figure size 432x288 with 1 Axes>"
      ]
     },
     "metadata": {
      "needs_background": "light"
     },
     "output_type": "display_data"
    }
   ],
   "source": [
    "xpt=np.linspace(0,len(loss_grap),len(mean_grap))\n",
    "xpt=[int(i) for i in xpt]\n",
    "\n",
    "plt.plot(xpt,mean_grap,c='red',lw=3)\n",
    "\n",
    "plt.title('Error')\n",
    "plt.xlabel('Iterations')\n",
    "plt.ylabel('Error')\n",
    "plt.show()"
   ]
  },
  {
   "cell_type": "markdown",
   "metadata": {},
   "source": [
    "## Accuracy"
   ]
  },
  {
   "cell_type": "code",
   "execution_count": 64,
   "metadata": {},
   "outputs": [
    {
     "name": "stderr",
     "output_type": "stream",
     "text": [
      "Accuracy calculation: 100%|██████████| 5000/5000 [00:12<00:00, 395.26it/s]"
     ]
    },
    {
     "name": "stdout",
     "output_type": "stream",
     "text": [
      "Accuracy:  0.772\n"
     ]
    },
    {
     "name": "stderr",
     "output_type": "stream",
     "text": [
      "\n"
     ]
    }
   ],
   "source": [
    "correct = 0\n",
    "total = 0\n",
    "with torch.no_grad():\n",
    "    \n",
    "    for i in trange(len(X_a), desc='Accuracy calculation'):\n",
    "        \n",
    "        X_a,Y_a = X_a.to(device), Y_a.to(device)\n",
    "        \n",
    "        net_out = net_class(X_a[i].view(-1,1,32,32))[0]\n",
    "        \n",
    "        predicted_class = torch.argmax(net_out)\n",
    "        \n",
    "        if predicted_class == Y_a[i]:\n",
    "            correct += 1\n",
    "        total += 1\n",
    "\n",
    "print(\"Accuracy: \",round(correct/total,3))"
   ]
  },
  {
   "cell_type": "markdown",
   "metadata": {},
   "source": [
    "## New data"
   ]
  },
  {
   "cell_type": "code",
   "execution_count": 127,
   "metadata": {},
   "outputs": [],
   "source": [
    "f_class=['Plane', 'Car', 'Bird','Ship', 'Horse']"
   ]
  },
  {
   "cell_type": "code",
   "execution_count": 134,
   "metadata": {},
   "outputs": [
    {
     "data": {
      "image/png": "[encoded data removed]",
      "text/plain": [
       "<Figure size 432x288 with 1 Axes>"
      ]
     },
     "metadata": {
      "needs_background": "light"
     },
     "output_type": "display_data"
    }
   ],
   "source": [
    "import cv2 \n",
    "\n",
    "#Path\n",
    "path1 = r'CIFAR1\\imgs\\der.jpg'\n",
    "path2 = r'CIFAR1\\imgs\\carr.jpg'\n",
    "path3 = r'CIFAR1\\imgs\\shi.png'\n",
    "path4 = r'CIFAR1\\imgs\\pig.jpg'\n",
    "path5 = r'CIFAR1\\imgs\\plan.jpg'\n",
    "path6 = r'CIFAR1\\imgs\\pgu.jpg'\n",
    "\n",
    "#Image transformation\n",
    "img1 = cv2.imread(path6, cv2.IMREAD_GRAYSCALE)\n",
    "img = cv2.resize(img1, (32, 32))\n",
    "innn = torch.Tensor([i for i in img])\n",
    "innn = innn.to(device)\n",
    "\n",
    "net_res = net_class(innn.view(-1,1,32,32))\n",
    "p_class = torch.argmax(net_res)\n",
    "\n",
    "#Plotting\n",
    "plt.imshow(img1,cmap='gray')\n",
    "plt.title(f_class[p_class.item()], fontsize=30)\n",
    "plt.axis('off')\n",
    "plt.show()"
   ]
  },
  {
   "cell_type": "markdown",
   "metadata": {},
   "source": [
    "## Saving model"
   ]
  },
  {
   "cell_type": "code",
   "execution_count": 136,
   "metadata": {},
   "outputs": [
    {
     "name": "stdout",
     "output_type": "stream",
     "text": [
      "Model saved\n"
     ]
    }
   ],
   "source": [
    "sv = False\n",
    "if sv:\n",
    "    torch.save(net_class.state_dict(), r'CIFAR1\\NNCIFR10.pt')\n",
    "    torch.save(net_class, r'CIFAR1\\NNCifar-10.pt')\n",
    "    print('Model saved')\n",
    "else:\n",
    "    print('Model not saved')"
   ]
  },
  {
   "cell_type": "code",
   "execution_count": null,
   "metadata": {},
   "outputs": [],
   "source": []
  }
 ],
 "metadata": {
  "kernelspec": {
   "display_name": "Python 3",
   "language": "python",
   "name": "python3"
  },
  "language_info": {
   "codemirror_mode": {
    "name": "ipython",
    "version": 3
   },
   "file_extension": ".py",
   "mimetype": "text/x-python",
   "name": "python",
   "nbconvert_exporter": "python",
   "pygments_lexer": "ipython3",
   "version": "3.7.5"
  }
 },
 "nbformat": 4,
 "nbformat_minor": 4
}
