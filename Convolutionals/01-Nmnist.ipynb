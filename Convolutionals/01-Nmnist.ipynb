{
 "cells": [
  {
   "cell_type": "markdown",
   "metadata": {},
   "source": [
    "## Libraries"
   ]
  },
  {
   "cell_type": "code",
   "execution_count": 1,
   "metadata": {},
   "outputs": [],
   "source": [
    "import torch\n",
    "import torchvision\n",
    "from torchvision import transforms, datasets\n",
    "import torch.nn as nn\n",
    "import torch.nn.functional as F\n",
    "import torch.optim  as optim\n",
    "import matplotlib.pyplot as plt\n",
    "%matplotlib inline\n",
    "import numpy as np\n",
    "from tqdm import tqdm\n",
    "from skimage import transform,io"
   ]
  },
  {
   "cell_type": "markdown",
   "metadata": {},
   "source": [
    "## Data"
   ]
  },
  {
   "cell_type": "code",
   "execution_count": 2,
   "metadata": {},
   "outputs": [],
   "source": [
    "train=datasets.MNIST(r'Nmnist',train=True,download=True,transform=transforms.Compose([\n",
    "    transforms.ToTensor()\n",
    "]))\n",
    "\n",
    "test=datasets.MNIST(r'Nmnist',train=False,download=True,transform=transforms.Compose([\n",
    "    transforms.ToTensor()\n",
    "]))\n",
    "\n",
    "trainset= torch.utils.data.DataLoader(train,batch_size=10,shuffle=True)\n",
    "testset= torch.utils.data.DataLoader(test,batch_size=10,shuffle=True)"
   ]
  },
  {
   "cell_type": "markdown",
   "metadata": {},
   "source": [
    "## Network"
   ]
  },
  {
   "cell_type": "code",
   "execution_count": 3,
   "metadata": {},
   "outputs": [],
   "source": [
    "class Net(nn.Module):\n",
    "    def __init__(self):\n",
    "        super().__init__()\n",
    "        \n",
    "        self.conv1 = nn.Conv2d(1, 16, 5)\n",
    "        self.conv2 = nn.Conv2d(16, 32, 5)\n",
    "        \n",
    "        self.fc1=nn.Linear(32*4*4, 170, bias=True)\n",
    "        self.fc2=nn.Linear(170, 56, bias=True)\n",
    "        self.fc3=nn.Linear(56, 10, bias=True)\n",
    "    \n",
    "    def forward(self,x):\n",
    "        \n",
    "        x = F.max_pool2d(F.relu(self.conv1(x)), (2, 2))\n",
    "        x = F.max_pool2d(F.relu(self.conv2(x)), (2, 2))\n",
    "        \n",
    "        x = torch.flatten(x, start_dim=1)\n",
    "        \n",
    "        x= F.relu(self.fc1(x)) \n",
    "        x= F.relu(self.fc2(x))\n",
    "        x= self.fc3(x)\n",
    "        \n",
    "        return F.softmax(x, dim=1)"
   ]
  },
  {
   "cell_type": "markdown",
   "metadata": {},
   "source": [
    "## CUDA"
   ]
  },
  {
   "cell_type": "code",
   "execution_count": 4,
   "metadata": {},
   "outputs": [
    {
     "name": "stdout",
     "output_type": "stream",
     "text": [
      "Running on the GPU\n"
     ]
    }
   ],
   "source": [
    "if torch.cuda.is_available():\n",
    "    device = torch.device(\"cuda:0\")\n",
    "    net_class = Net().to(device)\n",
    "    print(\"Running on the GPU\")\n",
    "else:\n",
    "    device = torch.device(\"cpu\")\n",
    "    net_class = Net()\n",
    "    print(\"Running on the CPU\")\n"
   ]
  },
  {
   "cell_type": "markdown",
   "metadata": {},
   "source": [
    "## Training"
   ]
  },
  {
   "cell_type": "code",
   "execution_count": 5,
   "metadata": {},
   "outputs": [
    {
     "name": "stderr",
     "output_type": "stream",
     "text": [
      "Loss calculation:   0%|          | 0/6000 [00:00<?, ?it/s]"
     ]
    },
    {
     "name": "stdout",
     "output_type": "stream",
     "text": [
      "Output shape: torch.Size([10, 10])\t Y shape: torch.Size([10])\n"
     ]
    },
    {
     "ename": "NameError",
     "evalue": "name 'brake' is not defined",
     "output_type": "error",
     "traceback": [
      "\u001b[1;31m---------------------------------------------------------------------------\u001b[0m",
      "\u001b[1;31mNameError\u001b[0m                                 Traceback (most recent call last)",
      "\u001b[1;32m<ipython-input-5-e8e597120733>\u001b[0m in \u001b[0;36m<module>\u001b[1;34m\u001b[0m\n\u001b[0;32m     32\u001b[0m \u001b[1;33m\u001b[0m\u001b[0m\n\u001b[0;32m     33\u001b[0m         \u001b[0mloss_mean\u001b[0m\u001b[1;33m+=\u001b[0m\u001b[0mloss\u001b[0m\u001b[1;33m\u001b[0m\u001b[1;33m\u001b[0m\u001b[0m\n\u001b[1;32m---> 34\u001b[1;33m         \u001b[0mbrake\u001b[0m\u001b[1;33m\u001b[0m\u001b[1;33m\u001b[0m\u001b[0m\n\u001b[0m\u001b[0;32m     35\u001b[0m     \u001b[0mprint\u001b[0m\u001b[1;33m(\u001b[0m\u001b[1;34mf'Epoch {epoch+1} error mean {(((loss_mean/len(trainset)).item())):.5f}'\u001b[0m\u001b[1;33m)\u001b[0m\u001b[1;33m\u001b[0m\u001b[1;33m\u001b[0m\u001b[0m\n\u001b[0;32m     36\u001b[0m     \u001b[0mmean_grap\u001b[0m\u001b[1;33m.\u001b[0m\u001b[0mappend\u001b[0m\u001b[1;33m(\u001b[0m\u001b[1;33m(\u001b[0m\u001b[1;33m(\u001b[0m\u001b[0mloss_mean\u001b[0m\u001b[1;33m/\u001b[0m\u001b[0mlen\u001b[0m\u001b[1;33m(\u001b[0m\u001b[0mtrainset\u001b[0m\u001b[1;33m)\u001b[0m\u001b[1;33m)\u001b[0m\u001b[1;33m.\u001b[0m\u001b[0mitem\u001b[0m\u001b[1;33m(\u001b[0m\u001b[1;33m)\u001b[0m\u001b[1;33m)\u001b[0m\u001b[1;33m)\u001b[0m\u001b[1;33m\u001b[0m\u001b[1;33m\u001b[0m\u001b[0m\n",
      "\u001b[1;31mNameError\u001b[0m: name 'brake' is not defined"
     ]
    }
   ],
   "source": [
    "optimizer = optim.Adam(net_class.parameters(),lr= 0.0001)\n",
    "loss_function = nn.CrossEntropyLoss()\n",
    "\n",
    "epochs=3\n",
    "loss_grap=[]\n",
    "mean_grap=[]\n",
    "prin = True\n",
    "\n",
    "for epoch in range(epochs):\n",
    "    loss_mean=0\n",
    "    for data in tqdm(trainset, desc='Loss calculation'):\n",
    "        \n",
    "        x,y=data\n",
    "          \n",
    "        x,y = x.to(device), y.to(device)\n",
    "        \n",
    "        net_class.zero_grad()\n",
    "        \n",
    "        output=net_class(x.view(-1,1,28,28))\n",
    "        \n",
    "        if prin:\n",
    "            print(f'Output shape: {output.shape}\\t Y shape: {y.shape}')\n",
    "            prin = False\n",
    "        \n",
    "        loss = loss_function(output, y)\n",
    "        \n",
    "        loss.backward()\n",
    "        \n",
    "        optimizer.step()\n",
    "        \n",
    "        loss_grap.append(loss)\n",
    "    \n",
    "        loss_mean+=loss\n",
    "        \n",
    "    print(f'Epoch {epoch+1} error mean {(((loss_mean/len(trainset)).item())):.5f}')\n",
    "    mean_grap.append(((loss_mean/len(trainset)).item()))"
   ]
  },
  {
   "cell_type": "markdown",
   "metadata": {},
   "source": [
    "## Error"
   ]
  },
  {
   "cell_type": "code",
   "execution_count": 53,
   "metadata": {},
   "outputs": [
    {
     "data": {
      "image/png": "[encoded data removed]",
      "text/plain": [
       "<Figure size 432x288 with 1 Axes>"
      ]
     },
     "metadata": {
      "needs_background": "light"
     },
     "output_type": "display_data"
    }
   ],
   "source": [
    "#plt.plot(range(len(loss_grap)),loss_grap,c='black')\n",
    "\n",
    "xpt=np.linspace(0,len(loss_grap),len(mean_grap))\n",
    "xpt=[int(i) for i in xpt]\n",
    "\n",
    "plt.plot(xpt,mean_grap,c='red',lw=3)\n",
    "\n",
    "plt.title('Error')\n",
    "plt.xlabel('Iterations')\n",
    "plt.ylabel('Error')\n",
    "plt.show()"
   ]
  },
  {
   "cell_type": "markdown",
   "metadata": {},
   "source": [
    "## Accuracy"
   ]
  },
  {
   "cell_type": "code",
   "execution_count": 54,
   "metadata": {},
   "outputs": [
    {
     "name": "stderr",
     "output_type": "stream",
     "text": [
      "Accuracy calculation: 100%|██████████| 1000/1000 [00:07<00:00, 134.44it/s]"
     ]
    },
    {
     "name": "stdout",
     "output_type": "stream",
     "text": [
      "Accuracy:  0.989\n"
     ]
    },
    {
     "name": "stderr",
     "output_type": "stream",
     "text": [
      "\n"
     ]
    }
   ],
   "source": [
    "correct=0\n",
    "total=0\n",
    "\n",
    "with torch.no_grad():\n",
    "    for data in tqdm(testset, desc='Accuracy calculation'):\n",
    "        x,y=data\n",
    "        x,y = x.to(device), y.to(device)\n",
    "        output=net_class(x.view(-1,1,28,28))\n",
    "        for idx,i in enumerate(output):\n",
    "            if torch.argmax(i)==y[idx]:\n",
    "                correct +=1\n",
    "            total+=1\n",
    "            \n",
    "print('Accuracy: ',round(correct/total,3))"
   ]
  },
  {
   "cell_type": "markdown",
   "metadata": {},
   "source": [
    "## New data"
   ]
  },
  {
   "cell_type": "code",
   "execution_count": 131,
   "metadata": {},
   "outputs": [
    {
     "data": {
      "image/png": "[encoded data removed]",
      "text/plain": [
       "<Figure size 432x288 with 1 Axes>"
      ]
     },
     "metadata": {
      "needs_background": "light"
     },
     "output_type": "display_data"
    }
   ],
   "source": [
    "import cv2 \n",
    "\n",
    "#Path\n",
    "path1 = r'Nmnist\\try.png'\n",
    "\n",
    "#Image transformation\n",
    "img = cv2.imread(path1, cv2.IMREAD_GRAYSCALE)\n",
    "img = cv2.resize(img, (28, 28))\n",
    "innn = torch.Tensor([i for i in img])\n",
    "innn = innn.to(device)\n",
    "\n",
    "#Passing through the network\n",
    "\n",
    "net_res=net_class(innn.view(-1,1,28,28))\n",
    "_, indices = torch.max(net_res.data, 1)\n",
    "\n",
    "#Plotting\n",
    "plt.imshow(img,cmap='gray')\n",
    "plt.title(f'Number {indices.item()}')\n",
    "plt.axis('off')\n",
    "plt.show()"
   ]
  },
  {
   "cell_type": "markdown",
   "metadata": {},
   "source": [
    "## Saving model"
   ]
  },
  {
   "cell_type": "code",
   "execution_count": 132,
   "metadata": {},
   "outputs": [
    {
     "name": "stdout",
     "output_type": "stream",
     "text": [
      "Model not saved\n"
     ]
    }
   ],
   "source": [
    "sv = False\n",
    "if sv:\n",
    "    torch.save(net_class.state_dict(), r'Nmnist\\NNMnist.pt')\n",
    "    torch.save(net_class, r'Nmnist\\NNHandNumbers.pt')\n",
    "    print('Model saved')\n",
    "else:\n",
    "    print('Model not saved')"
   ]
  },
  {
   "cell_type": "markdown",
   "metadata": {},
   "source": [
    "## Loading Model"
   ]
  },
  {
   "cell_type": "code",
   "execution_count": 133,
   "metadata": {},
   "outputs": [
    {
     "name": "stdout",
     "output_type": "stream",
     "text": [
      "Model loaded\n",
      "\n"
     ]
    },
    {
     "data": {
      "image/png": "[encoded data removed]",
      "text/plain": [
       "<Figure size 432x288 with 1 Axes>"
      ]
     },
     "metadata": {
      "needs_background": "light"
     },
     "output_type": "display_data"
    }
   ],
   "source": [
    "ld = True\n",
    "if ld:\n",
    "    load_model = torch.load(r'Nmnist\\NNHandNumbers.pt')\n",
    "    print('Model loaded\\n')\n",
    "    load_model = load_model.to(device)\n",
    "    \n",
    "    net_res=load_model(innn.view(-1,1,28,28))\n",
    "    _, indices = torch.max(net_res.data, 1)\n",
    "\n",
    "    #Plotting\n",
    "    plt.imshow(img,cmap='gray')\n",
    "    plt.title(f'Number {indices.item()}')\n",
    "    plt.axis('off')\n",
    "    plt.show()"
   ]
  },
  {
   "cell_type": "code",
   "execution_count": null,
   "metadata": {},
   "outputs": [],
   "source": []
  }
 ],
 "metadata": {
  "kernelspec": {
   "display_name": "Python 3",
   "language": "python",
   "name": "python3"
  },
  "language_info": {
   "codemirror_mode": {
    "name": "ipython",
    "version": 3
   },
   "file_extension": ".py",
   "mimetype": "text/x-python",
   "name": "python",
   "nbconvert_exporter": "python",
   "pygments_lexer": "ipython3",
   "version": "3.7.5"
  }
 },
 "nbformat": 4,
 "nbformat_minor": 4
}
