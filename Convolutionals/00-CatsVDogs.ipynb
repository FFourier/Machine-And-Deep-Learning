{
 "cells": [
  {
   "cell_type": "markdown",
   "metadata": {},
   "source": [
    "# Libraries"
   ]
  },
  {
   "cell_type": "code",
   "execution_count": 1,
   "metadata": {},
   "outputs": [],
   "source": [
    "import numpy as np\n",
    "\n",
    "import torch\n",
    "import torch.nn as nn\n",
    "import torch.nn.functional as F\n",
    "import torch.optim  as optim\n",
    "\n",
    "import matplotlib.pyplot as plt\n",
    "%matplotlib inline\n",
    "\n",
    "from tqdm import tqdm, trange"
   ]
  },
  {
   "cell_type": "markdown",
   "metadata": {},
   "source": [
    "## Data"
   ]
  },
  {
   "cell_type": "code",
   "execution_count": 2,
   "metadata": {},
   "outputs": [],
   "source": [
    "full_dataset=np.load(r'CatsVDogs\\training_data.npy',allow_pickle=True)\n",
    "train_set, val_set = torch.utils.data.random_split(full_dataset, [int(len(full_dataset)*0.75)+1, int(len(full_dataset)*0.25)])\n",
    "\n",
    "X = torch.Tensor([i[0] for i in train_set])\n",
    "Y = torch.Tensor([i[1] for i in train_set])\n",
    "\n",
    "X_a = torch.Tensor([i[0] for i in val_set])\n",
    "Y_a = torch.Tensor([i[1] for i in val_set])"
   ]
  },
  {
   "cell_type": "markdown",
   "metadata": {},
   "source": [
    "## Model"
   ]
  },
  {
   "cell_type": "code",
   "execution_count": 3,
   "metadata": {},
   "outputs": [],
   "source": [
    "class Net(nn.Module):\n",
    "    def __init__(self):\n",
    "        super().__init__()\n",
    "        \n",
    "        self.conv1 = nn.Conv2d(1, 32, 5)\n",
    "        self.conv2 = nn.Conv2d(32, 64, 5)\n",
    "        self.conv3 = nn.Conv2d(64, 128, 5)\n",
    "        \n",
    "        self.fc1=nn.Linear(128*2*2, 170, bias=True)\n",
    "        self.fc2=nn.Linear(170, 56, bias=True)\n",
    "        self.fc3=nn.Linear(56, 2, bias=True)\n",
    "    \n",
    "    def forward(self,x):\n",
    "        \n",
    "        x = F.max_pool2d(F.relu(self.conv1(x)), (2, 2))\n",
    "        x = F.max_pool2d(F.relu(self.conv2(x)), (2, 2))\n",
    "        x = F.max_pool2d(F.relu(self.conv3(x)), (2, 2))\n",
    "        \n",
    "        x = torch.flatten(x, start_dim=1)\n",
    "        \n",
    "        x= F.relu(self.fc1(x)) \n",
    "        x= F.relu(self.fc2(x))\n",
    "        x= self.fc3(x)\n",
    "        \n",
    "        return F.softmax(x, dim=1)"
   ]
  },
  {
   "cell_type": "markdown",
   "metadata": {},
   "source": [
    "## CUDA"
   ]
  },
  {
   "cell_type": "code",
   "execution_count": 4,
   "metadata": {},
   "outputs": [
    {
     "name": "stdout",
     "output_type": "stream",
     "text": [
      "Running on the GPU\n"
     ]
    }
   ],
   "source": [
    "if torch.cuda.is_available():\n",
    "    device = torch.device(\"cuda:0\")\n",
    "    net_class = Net().to(device)\n",
    "    print(\"Running on the GPU\")\n",
    "else:\n",
    "    device = torch.device(\"cpu\")\n",
    "    net_class = Net()\n",
    "    print(\"Running on the CPU\")\n"
   ]
  },
  {
   "cell_type": "markdown",
   "metadata": {},
   "source": [
    "## Training loop"
   ]
  },
  {
   "cell_type": "code",
   "execution_count": 5,
   "metadata": {},
   "outputs": [
    {
     "name": "stderr",
     "output_type": "stream",
     "text": [
      "Loss calculation: 100%|██████████| 188/188 [00:15<00:00, 12.25it/s]\n",
      "Loss calculation:   1%|          | 2/188 [00:00<00:10, 18.23it/s]"
     ]
    },
    {
     "name": "stdout",
     "output_type": "stream",
     "text": [
      "Epoch 1 error mean 0.23422\n"
     ]
    },
    {
     "name": "stderr",
     "output_type": "stream",
     "text": [
      "Loss calculation: 100%|██████████| 188/188 [00:14<00:00, 13.17it/s]\n",
      "Loss calculation:   1%|          | 2/188 [00:00<00:10, 17.43it/s]"
     ]
    },
    {
     "name": "stdout",
     "output_type": "stream",
     "text": [
      "Epoch 2 error mean 0.20228\n"
     ]
    },
    {
     "name": "stderr",
     "output_type": "stream",
     "text": [
      "Loss calculation: 100%|██████████| 188/188 [00:14<00:00, 13.23it/s]\n",
      "Loss calculation:   1%|          | 2/188 [00:00<00:09, 19.91it/s]"
     ]
    },
    {
     "name": "stdout",
     "output_type": "stream",
     "text": [
      "Epoch 3 error mean 0.17729\n"
     ]
    },
    {
     "name": "stderr",
     "output_type": "stream",
     "text": [
      "Loss calculation: 100%|██████████| 188/188 [00:14<00:00, 13.09it/s]\n",
      "Loss calculation:   2%|▏         | 3/188 [00:00<00:10, 16.93it/s]"
     ]
    },
    {
     "name": "stdout",
     "output_type": "stream",
     "text": [
      "Epoch 4 error mean 0.15700\n"
     ]
    },
    {
     "name": "stderr",
     "output_type": "stream",
     "text": [
      "Loss calculation: 100%|██████████| 188/188 [00:14<00:00, 13.17it/s]\n",
      "Loss calculation:   1%|          | 2/188 [00:00<00:09, 19.40it/s]"
     ]
    },
    {
     "name": "stdout",
     "output_type": "stream",
     "text": [
      "Epoch 5 error mean 0.13473\n"
     ]
    },
    {
     "name": "stderr",
     "output_type": "stream",
     "text": [
      "Loss calculation: 100%|██████████| 188/188 [00:14<00:00, 13.23it/s]\n",
      "Loss calculation:   1%|          | 2/188 [00:00<00:09, 18.79it/s]"
     ]
    },
    {
     "name": "stdout",
     "output_type": "stream",
     "text": [
      "Epoch 6 error mean 0.11989\n"
     ]
    },
    {
     "name": "stderr",
     "output_type": "stream",
     "text": [
      "Loss calculation: 100%|██████████| 188/188 [00:14<00:00, 13.00it/s]\n",
      "Loss calculation:   1%|          | 2/188 [00:00<00:09, 19.02it/s]"
     ]
    },
    {
     "name": "stdout",
     "output_type": "stream",
     "text": [
      "Epoch 7 error mean 0.11131\n"
     ]
    },
    {
     "name": "stderr",
     "output_type": "stream",
     "text": [
      "Loss calculation: 100%|██████████| 188/188 [00:14<00:00, 13.07it/s]\n",
      "Loss calculation:   1%|          | 2/188 [00:00<00:09, 19.98it/s]"
     ]
    },
    {
     "name": "stdout",
     "output_type": "stream",
     "text": [
      "Epoch 8 error mean 0.10060\n"
     ]
    },
    {
     "name": "stderr",
     "output_type": "stream",
     "text": [
      "Loss calculation: 100%|██████████| 188/188 [00:14<00:00, 13.17it/s]\n",
      "Loss calculation:   1%|          | 2/188 [00:00<00:10, 18.23it/s]"
     ]
    },
    {
     "name": "stdout",
     "output_type": "stream",
     "text": [
      "Epoch 9 error mean 0.07809\n"
     ]
    },
    {
     "name": "stderr",
     "output_type": "stream",
     "text": [
      "Loss calculation: 100%|██████████| 188/188 [00:14<00:00, 13.08it/s]\n",
      "Loss calculation:   1%|          | 2/188 [00:00<00:09, 19.10it/s]"
     ]
    },
    {
     "name": "stdout",
     "output_type": "stream",
     "text": [
      "Epoch 10 error mean 0.07004\n"
     ]
    },
    {
     "name": "stderr",
     "output_type": "stream",
     "text": [
      "Loss calculation: 100%|██████████| 188/188 [00:14<00:00, 12.83it/s]\n",
      "Loss calculation:   1%|          | 2/188 [00:00<00:10, 18.22it/s]"
     ]
    },
    {
     "name": "stdout",
     "output_type": "stream",
     "text": [
      "Epoch 11 error mean 0.06535\n"
     ]
    },
    {
     "name": "stderr",
     "output_type": "stream",
     "text": [
      "Loss calculation: 100%|██████████| 188/188 [00:14<00:00, 12.86it/s]\n",
      "Loss calculation:   1%|          | 2/188 [00:00<00:09, 19.23it/s]"
     ]
    },
    {
     "name": "stdout",
     "output_type": "stream",
     "text": [
      "Epoch 12 error mean 0.05747\n"
     ]
    },
    {
     "name": "stderr",
     "output_type": "stream",
     "text": [
      "Loss calculation: 100%|██████████| 188/188 [00:14<00:00, 12.88it/s]\n",
      "Loss calculation:   1%|          | 2/188 [00:00<00:10, 18.03it/s]"
     ]
    },
    {
     "name": "stdout",
     "output_type": "stream",
     "text": [
      "Epoch 13 error mean 0.04557\n"
     ]
    },
    {
     "name": "stderr",
     "output_type": "stream",
     "text": [
      "Loss calculation: 100%|██████████| 188/188 [00:14<00:00, 12.98it/s]\n",
      "Loss calculation:   1%|          | 2/188 [00:00<00:09, 19.40it/s]"
     ]
    },
    {
     "name": "stdout",
     "output_type": "stream",
     "text": [
      "Epoch 14 error mean 0.03750\n"
     ]
    },
    {
     "name": "stderr",
     "output_type": "stream",
     "text": [
      "Loss calculation: 100%|██████████| 188/188 [00:14<00:00, 13.09it/s]\n",
      "Loss calculation:   1%|          | 2/188 [00:00<00:10, 18.39it/s]"
     ]
    },
    {
     "name": "stdout",
     "output_type": "stream",
     "text": [
      "Epoch 15 error mean 0.03364\n"
     ]
    },
    {
     "name": "stderr",
     "output_type": "stream",
     "text": [
      "Loss calculation: 100%|██████████| 188/188 [00:14<00:00, 12.89it/s]\n",
      "Loss calculation:   1%|          | 2/188 [00:00<00:10, 17.86it/s]"
     ]
    },
    {
     "name": "stdout",
     "output_type": "stream",
     "text": [
      "Epoch 16 error mean 0.03857\n"
     ]
    },
    {
     "name": "stderr",
     "output_type": "stream",
     "text": [
      "Loss calculation: 100%|██████████| 188/188 [00:14<00:00, 12.63it/s]\n",
      "Loss calculation:   1%|          | 2/188 [00:00<00:12, 14.49it/s]"
     ]
    },
    {
     "name": "stdout",
     "output_type": "stream",
     "text": [
      "Epoch 17 error mean 0.03275\n"
     ]
    },
    {
     "name": "stderr",
     "output_type": "stream",
     "text": [
      "Loss calculation: 100%|██████████| 188/188 [00:14<00:00, 12.72it/s]\n",
      "Loss calculation:   1%|          | 2/188 [00:00<00:11, 16.47it/s]"
     ]
    },
    {
     "name": "stdout",
     "output_type": "stream",
     "text": [
      "Epoch 18 error mean 0.02254\n"
     ]
    },
    {
     "name": "stderr",
     "output_type": "stream",
     "text": [
      "Loss calculation: 100%|██████████| 188/188 [00:14<00:00, 12.89it/s]\n",
      "Loss calculation:   1%|          | 2/188 [00:00<00:09, 18.87it/s]"
     ]
    },
    {
     "name": "stdout",
     "output_type": "stream",
     "text": [
      "Epoch 19 error mean 0.01879\n"
     ]
    },
    {
     "name": "stderr",
     "output_type": "stream",
     "text": [
      "Loss calculation: 100%|██████████| 188/188 [00:14<00:00, 12.84it/s]\n",
      "Loss calculation:   1%|          | 2/188 [00:00<00:09, 19.15it/s]"
     ]
    },
    {
     "name": "stdout",
     "output_type": "stream",
     "text": [
      "Epoch 20 error mean 0.01640\n"
     ]
    },
    {
     "name": "stderr",
     "output_type": "stream",
     "text": [
      "Loss calculation: 100%|██████████| 188/188 [00:14<00:00, 12.93it/s]\n",
      "Loss calculation:   1%|          | 2/188 [00:00<00:10, 17.85it/s]"
     ]
    },
    {
     "name": "stdout",
     "output_type": "stream",
     "text": [
      "Epoch 21 error mean 0.01653\n"
     ]
    },
    {
     "name": "stderr",
     "output_type": "stream",
     "text": [
      "Loss calculation: 100%|██████████| 188/188 [00:14<00:00, 12.95it/s]\n",
      "Loss calculation:   1%|          | 2/188 [00:00<00:10, 18.17it/s]"
     ]
    },
    {
     "name": "stdout",
     "output_type": "stream",
     "text": [
      "Epoch 22 error mean 0.01594\n"
     ]
    },
    {
     "name": "stderr",
     "output_type": "stream",
     "text": [
      "Loss calculation: 100%|██████████| 188/188 [00:14<00:00, 12.85it/s]\n",
      "Loss calculation:   1%|          | 2/188 [00:00<00:10, 17.74it/s]"
     ]
    },
    {
     "name": "stdout",
     "output_type": "stream",
     "text": [
      "Epoch 23 error mean 0.01622\n"
     ]
    },
    {
     "name": "stderr",
     "output_type": "stream",
     "text": [
      "Loss calculation: 100%|██████████| 188/188 [00:14<00:00, 12.90it/s]\n",
      "Loss calculation:   1%|          | 2/188 [00:00<00:10, 18.33it/s]"
     ]
    },
    {
     "name": "stdout",
     "output_type": "stream",
     "text": [
      "Epoch 24 error mean 0.01565\n"
     ]
    },
    {
     "name": "stderr",
     "output_type": "stream",
     "text": [
      "Loss calculation: 100%|██████████| 188/188 [00:14<00:00, 12.93it/s]\n",
      "Loss calculation:   1%|          | 2/188 [00:00<00:10, 18.33it/s]"
     ]
    },
    {
     "name": "stdout",
     "output_type": "stream",
     "text": [
      "Epoch 25 error mean 0.01673\n"
     ]
    },
    {
     "name": "stderr",
     "output_type": "stream",
     "text": [
      "Loss calculation: 100%|██████████| 188/188 [00:14<00:00, 12.80it/s]\n",
      "Loss calculation:   1%|          | 2/188 [00:00<00:10, 18.31it/s]"
     ]
    },
    {
     "name": "stdout",
     "output_type": "stream",
     "text": [
      "Epoch 26 error mean 0.01964\n"
     ]
    },
    {
     "name": "stderr",
     "output_type": "stream",
     "text": [
      "Loss calculation: 100%|██████████| 188/188 [00:14<00:00, 12.98it/s]\n",
      "Loss calculation:   1%|          | 2/188 [00:00<00:10, 17.58it/s]"
     ]
    },
    {
     "name": "stdout",
     "output_type": "stream",
     "text": [
      "Epoch 27 error mean 0.01697\n"
     ]
    },
    {
     "name": "stderr",
     "output_type": "stream",
     "text": [
      "Loss calculation: 100%|██████████| 188/188 [00:14<00:00, 12.93it/s]\n",
      "Loss calculation:   1%|          | 2/188 [00:00<00:10, 17.38it/s]"
     ]
    },
    {
     "name": "stdout",
     "output_type": "stream",
     "text": [
      "Epoch 28 error mean 0.01587\n"
     ]
    },
    {
     "name": "stderr",
     "output_type": "stream",
     "text": [
      "Loss calculation: 100%|██████████| 188/188 [00:14<00:00, 12.82it/s]\n",
      "Loss calculation:   1%|          | 2/188 [00:00<00:11, 16.00it/s]"
     ]
    },
    {
     "name": "stdout",
     "output_type": "stream",
     "text": [
      "Epoch 29 error mean 0.01468\n"
     ]
    },
    {
     "name": "stderr",
     "output_type": "stream",
     "text": [
      "Loss calculation: 100%|██████████| 188/188 [00:14<00:00, 12.81it/s]"
     ]
    },
    {
     "name": "stdout",
     "output_type": "stream",
     "text": [
      "Epoch 30 error mean 0.01112\n"
     ]
    },
    {
     "name": "stderr",
     "output_type": "stream",
     "text": [
      "\n"
     ]
    }
   ],
   "source": [
    "BATCH_SIZE = 100\n",
    "EPOCHS = 30\n",
    "\n",
    "optimizer = optim.Adam(net_class.parameters(),lr= 0.0002)\n",
    "loss_function = nn.MSELoss()\n",
    "\n",
    "loss_grap=[]\n",
    "mean_grap=[]\n",
    "\n",
    "for epoch in range(EPOCHS):\n",
    "    loss_mean=0\n",
    "    for i in trange(0, len(train_set), BATCH_SIZE,  desc='Loss calculation'):\n",
    "        \n",
    "        batch_X=X[i:i+BATCH_SIZE].view(-1,1,50,50)\n",
    "        batch_y=Y[i:i+BATCH_SIZE]\n",
    "        \n",
    "        batch_X, batch_y = batch_X.to(device), batch_y.to(device)\n",
    "        \n",
    "        net_class.zero_grad()\n",
    "        outputs = net_class(batch_X)\n",
    "        loss = loss_function(outputs, batch_y)\n",
    "        loss.backward()\n",
    "        optimizer.step()\n",
    "        loss_grap.append(loss)\n",
    "        loss_mean+=loss\n",
    "    print(f'Epoch {epoch+1} error mean {(((loss_mean/i).item())*100):.5f}')\n",
    "    mean_grap.append(((loss_mean/i).item())*100)"
   ]
  },
  {
   "cell_type": "markdown",
   "metadata": {},
   "source": [
    "## Error"
   ]
  },
  {
   "cell_type": "code",
   "execution_count": 6,
   "metadata": {},
   "outputs": [
    {
     "data": {
      "image/png": "[encoded data removed]",
      "text/plain": [
       "<Figure size 432x288 with 1 Axes>"
      ]
     },
     "metadata": {
      "needs_background": "light"
     },
     "output_type": "display_data"
    }
   ],
   "source": [
    "plt.plot(range(len(loss_grap)),loss_grap,c='black')\n",
    "\n",
    "xpt=np.linspace(0,len(loss_grap),len(mean_grap))\n",
    "xpt=[int(i) for i in xpt]\n",
    "\n",
    "plt.plot(xpt,mean_grap,c='red',lw=3)\n",
    "\n",
    "plt.title('Error')\n",
    "plt.xlabel('Iterations')\n",
    "plt.ylabel('Error')\n",
    "plt.show()"
   ]
  },
  {
   "cell_type": "markdown",
   "metadata": {},
   "source": [
    "## Accuracy"
   ]
  },
  {
   "cell_type": "code",
   "execution_count": 7,
   "metadata": {},
   "outputs": [
    {
     "name": "stderr",
     "output_type": "stream",
     "text": [
      "Accuracy calculation: 100%|██████████| 6236/6236 [00:16<00:00, 374.37it/s]"
     ]
    },
    {
     "name": "stdout",
     "output_type": "stream",
     "text": [
      "Accuracy:  0.725\n"
     ]
    },
    {
     "name": "stderr",
     "output_type": "stream",
     "text": [
      "\n"
     ]
    }
   ],
   "source": [
    "correct = 0\n",
    "total = 0\n",
    "with torch.no_grad():\n",
    "    \n",
    "    for i in trange(len(X_a), desc='Accuracy calculation'):\n",
    "        \n",
    "        X_a,Y_a = X_a.to(device), Y_a.to(device)\n",
    "        \n",
    "        real_class = torch.argmax(Y_a[i])\n",
    "        \n",
    "        net_out = net_class(X_a[i].view(-1,1,50,50))[0]\n",
    "        \n",
    "        predicted_class = torch.argmax(net_out)\n",
    "        \n",
    "        if predicted_class == real_class:\n",
    "            correct += 1\n",
    "        total += 1\n",
    "\n",
    "print(\"Accuracy: \",round(correct/total,3))"
   ]
  },
  {
   "cell_type": "markdown",
   "metadata": {},
   "source": [
    "## New Data"
   ]
  },
  {
   "cell_type": "code",
   "execution_count": 8,
   "metadata": {},
   "outputs": [
    {
     "data": {
      "image/png": "[encoded data removed]",
      "text/plain": [
       "<Figure size 432x288 with 1 Axes>"
      ]
     },
     "metadata": {
      "needs_background": "light"
     },
     "output_type": "display_data"
    }
   ],
   "source": [
    "import cv2 \n",
    "\n",
    "path1 = r'CatsVDogs\\imgs\\gat.jpg'\n",
    "path2 = r'CatsVDogs\\imgs\\salchi.jpg'\n",
    "path3 = r'CatsVDogs\\imgs\\malvada.jpeg'\n",
    "path4 = r'CatsVDogs\\imgs\\charli.jpeg'\n",
    "path5 = r'CatsVDogs\\imgs\\bartolo.jpeg'\n",
    "path6 = r'CatsVDogs\\imgs\\boz.jpg'\n",
    "  \n",
    "img = cv2.imread(path6, cv2.IMREAD_GRAYSCALE)\n",
    "plt.imshow(img,cmap='gray')\n",
    "plt.axis('off')\n",
    "plt.show()\n",
    "# img = cv2.resize(img, (50, 50))\n",
    "# plt.imshow(img,cmap='gray')\n",
    "# plt.axis('off')\n",
    "# plt.show()"
   ]
  },
  {
   "cell_type": "code",
   "execution_count": 9,
   "metadata": {},
   "outputs": [
    {
     "ename": "RuntimeError",
     "evalue": "shape '[-1, 1, 50, 50]' is invalid for input of size 249964",
     "output_type": "error",
     "traceback": [
      "\u001b[1;31m---------------------------------------------------------------------------\u001b[0m",
      "\u001b[1;31mRuntimeError\u001b[0m                              Traceback (most recent call last)",
      "\u001b[1;32m<ipython-input-9-12af63eeadf8>\u001b[0m in \u001b[0;36m<module>\u001b[1;34m\u001b[0m\n\u001b[0;32m      1\u001b[0m \u001b[0minnn\u001b[0m \u001b[1;33m=\u001b[0m \u001b[0mtorch\u001b[0m\u001b[1;33m.\u001b[0m\u001b[0mTensor\u001b[0m\u001b[1;33m(\u001b[0m\u001b[1;33m[\u001b[0m\u001b[0mi\u001b[0m \u001b[1;32mfor\u001b[0m \u001b[0mi\u001b[0m \u001b[1;32min\u001b[0m \u001b[0mimg\u001b[0m\u001b[1;33m]\u001b[0m\u001b[1;33m)\u001b[0m\u001b[1;33m\u001b[0m\u001b[1;33m\u001b[0m\u001b[0m\n\u001b[0;32m      2\u001b[0m \u001b[0minnn\u001b[0m \u001b[1;33m=\u001b[0m \u001b[0minnn\u001b[0m\u001b[1;33m.\u001b[0m\u001b[0mto\u001b[0m\u001b[1;33m(\u001b[0m\u001b[0mdevice\u001b[0m\u001b[1;33m)\u001b[0m\u001b[1;33m\u001b[0m\u001b[1;33m\u001b[0m\u001b[0m\n\u001b[1;32m----> 3\u001b[1;33m \u001b[0mnet_res\u001b[0m \u001b[1;33m=\u001b[0m \u001b[0mnet_class\u001b[0m\u001b[1;33m(\u001b[0m\u001b[0minnn\u001b[0m\u001b[1;33m.\u001b[0m\u001b[0mview\u001b[0m\u001b[1;33m(\u001b[0m\u001b[1;33m-\u001b[0m\u001b[1;36m1\u001b[0m\u001b[1;33m,\u001b[0m\u001b[1;36m1\u001b[0m\u001b[1;33m,\u001b[0m\u001b[1;36m50\u001b[0m\u001b[1;33m,\u001b[0m\u001b[1;36m50\u001b[0m\u001b[1;33m)\u001b[0m\u001b[1;33m)\u001b[0m\u001b[1;33m\u001b[0m\u001b[1;33m\u001b[0m\u001b[0m\n\u001b[0m\u001b[0;32m      4\u001b[0m \u001b[0mprint\u001b[0m\u001b[1;33m(\u001b[0m\u001b[1;34mf'Hay una certeza del {((net_res[0][0])*100):.2f} % que sea gato y un {((net_res[0][1])*100):.2f} % que sea perro'\u001b[0m\u001b[1;33m)\u001b[0m\u001b[1;33m\u001b[0m\u001b[1;33m\u001b[0m\u001b[0m\n",
      "\u001b[1;31mRuntimeError\u001b[0m: shape '[-1, 1, 50, 50]' is invalid for input of size 249964"
     ]
    }
   ],
   "source": [
    "innn = torch.Tensor([i for i in img])\n",
    "innn = innn.to(device)\n",
    "net_res = net_class(innn.view(-1,1,50,50))\n",
    "print(f'Hay una certeza del {((net_res[0][0])*100):.2f} % que sea gato y un {((net_res[0][1])*100):.2f} % que sea perro')"
   ]
  },
  {
   "cell_type": "markdown",
   "metadata": {},
   "source": [
    "## Saving model"
   ]
  },
  {
   "cell_type": "code",
   "execution_count": null,
   "metadata": {},
   "outputs": [],
   "source": [
    "sv = False\n",
    "if sv:\n",
    "    torch.save(net_class, r'CatsVDogs\\NNCatsVDogs.pt')\n",
    "    print('Model saved')"
   ]
  },
  {
   "cell_type": "markdown",
   "metadata": {},
   "source": [
    "## Loading model"
   ]
  },
  {
   "cell_type": "code",
   "execution_count": null,
   "metadata": {},
   "outputs": [],
   "source": [
    "ld = False\n",
    "if ld:\n",
    "    load_model = torch.load(r'CatsVDogs\\NNCatsVDogs.pt')\n",
    "    print('Model loaded\\n')\n",
    "    load_model = load_model.to(device)\n",
    "    load_res = load_model(innn.view(-1,1,50,50))\n",
    "    print(f'Hay una certeza del {((load_res[0][0])*100):.2f} % que sea gato y un {((load_res[0][1])*100):.2f} % que sea perro')"
   ]
  },
  {
   "cell_type": "code",
   "execution_count": null,
   "metadata": {},
   "outputs": [],
   "source": [
    "torch.save(load_model.state_dict(), r'CatsVDogs\\NNCVD.pt')"
   ]
  },
  {
   "cell_type": "code",
   "execution_count": null,
   "metadata": {},
   "outputs": [],
   "source": []
  }
 ],
 "metadata": {
  "kernelspec": {
   "display_name": "Python 3",
   "language": "python",
   "name": "python3"
  },
  "language_info": {
   "codemirror_mode": {
    "name": "ipython",
    "version": 3
   },
   "file_extension": ".py",
   "mimetype": "text/x-python",
   "name": "python",
   "nbconvert_exporter": "python",
   "pygments_lexer": "ipython3",
   "version": "3.7.5"
  }
 },
 "nbformat": 4,
 "nbformat_minor": 4
}
